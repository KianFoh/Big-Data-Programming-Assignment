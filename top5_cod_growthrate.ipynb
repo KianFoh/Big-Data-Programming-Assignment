{
 "cells": [
  {
   "cell_type": "markdown",
   "id": "2b2ca7b4-e0cb-4bcc-ab22-a7521f773a29",
   "metadata": {},
   "source": [
    "# Import Data"
   ]
  },
  {
   "cell_type": "code",
   "execution_count": 42,
   "id": "f2d85983-bbf0-4668-a28b-074d3d9e46c7",
   "metadata": {},
   "outputs": [
    {
     "data": {
      "text/html": [
       "<div>\n",
       "<style scoped>\n",
       "    .dataframe tbody tr th:only-of-type {\n",
       "        vertical-align: middle;\n",
       "    }\n",
       "\n",
       "    .dataframe tbody tr th {\n",
       "        vertical-align: top;\n",
       "    }\n",
       "\n",
       "    .dataframe thead th {\n",
       "        text-align: right;\n",
       "    }\n",
       "</style>\n",
       "<table border=\"1\" class=\"dataframe\">\n",
       "  <thead>\n",
       "    <tr style=\"text-align: right;\">\n",
       "      <th></th>\n",
       "      <th>Indicator Name</th>\n",
       "      <th>Year</th>\n",
       "      <th>Sex</th>\n",
       "      <th>Age Group</th>\n",
       "      <th>Age Category</th>\n",
       "      <th>Number</th>\n",
       "      <th>Percent of All Causes</th>\n",
       "      <th>Death Rate</th>\n",
       "    </tr>\n",
       "  </thead>\n",
       "  <tbody>\n",
       "    <tr>\n",
       "      <th>0</th>\n",
       "      <td>All Causes</td>\n",
       "      <td>2020</td>\n",
       "      <td>All</td>\n",
       "      <td>[All]</td>\n",
       "      <td>All Ages</td>\n",
       "      <td>109155.0</td>\n",
       "      <td>100.0</td>\n",
       "      <td>337.252065</td>\n",
       "    </tr>\n",
       "    <tr>\n",
       "      <th>1</th>\n",
       "      <td>All Causes</td>\n",
       "      <td>2020</td>\n",
       "      <td>All</td>\n",
       "      <td>[0]</td>\n",
       "      <td>Infant</td>\n",
       "      <td>2367.0</td>\n",
       "      <td>100.0</td>\n",
       "      <td>444.185060</td>\n",
       "    </tr>\n",
       "    <tr>\n",
       "      <th>2</th>\n",
       "      <td>All Causes</td>\n",
       "      <td>2020</td>\n",
       "      <td>All</td>\n",
       "      <td>[1-4]</td>\n",
       "      <td>Toddler</td>\n",
       "      <td>410.0</td>\n",
       "      <td>100.0</td>\n",
       "      <td>19.503136</td>\n",
       "    </tr>\n",
       "    <tr>\n",
       "      <th>3</th>\n",
       "      <td>All Causes</td>\n",
       "      <td>2020</td>\n",
       "      <td>All</td>\n",
       "      <td>[5-9]</td>\n",
       "      <td>Child</td>\n",
       "      <td>294.0</td>\n",
       "      <td>100.0</td>\n",
       "      <td>11.722119</td>\n",
       "    </tr>\n",
       "    <tr>\n",
       "      <th>4</th>\n",
       "      <td>All Causes</td>\n",
       "      <td>2020</td>\n",
       "      <td>All</td>\n",
       "      <td>[10-14]</td>\n",
       "      <td>Child</td>\n",
       "      <td>402.0</td>\n",
       "      <td>100.0</td>\n",
       "      <td>16.434815</td>\n",
       "    </tr>\n",
       "    <tr>\n",
       "      <th>...</th>\n",
       "      <td>...</td>\n",
       "      <td>...</td>\n",
       "      <td>...</td>\n",
       "      <td>...</td>\n",
       "      <td>...</td>\n",
       "      <td>...</td>\n",
       "      <td>...</td>\n",
       "      <td>...</td>\n",
       "    </tr>\n",
       "    <tr>\n",
       "      <th>201595</th>\n",
       "      <td>COVID-19</td>\n",
       "      <td>2000</td>\n",
       "      <td>Female</td>\n",
       "      <td>[65-69]</td>\n",
       "      <td>Senior</td>\n",
       "      <td>0.0</td>\n",
       "      <td>0.0</td>\n",
       "      <td>0.000000</td>\n",
       "    </tr>\n",
       "    <tr>\n",
       "      <th>201596</th>\n",
       "      <td>COVID-19</td>\n",
       "      <td>2000</td>\n",
       "      <td>Female</td>\n",
       "      <td>[70-74]</td>\n",
       "      <td>Senior</td>\n",
       "      <td>0.0</td>\n",
       "      <td>0.0</td>\n",
       "      <td>0.000000</td>\n",
       "    </tr>\n",
       "    <tr>\n",
       "      <th>201597</th>\n",
       "      <td>COVID-19</td>\n",
       "      <td>2000</td>\n",
       "      <td>Female</td>\n",
       "      <td>[75-79]</td>\n",
       "      <td>Senior</td>\n",
       "      <td>0.0</td>\n",
       "      <td>0.0</td>\n",
       "      <td>0.000000</td>\n",
       "    </tr>\n",
       "    <tr>\n",
       "      <th>201598</th>\n",
       "      <td>COVID-19</td>\n",
       "      <td>2000</td>\n",
       "      <td>Female</td>\n",
       "      <td>[80-84]</td>\n",
       "      <td>Elderly</td>\n",
       "      <td>0.0</td>\n",
       "      <td>0.0</td>\n",
       "      <td>0.000000</td>\n",
       "    </tr>\n",
       "    <tr>\n",
       "      <th>201599</th>\n",
       "      <td>COVID-19</td>\n",
       "      <td>2000</td>\n",
       "      <td>Female</td>\n",
       "      <td>[85+]</td>\n",
       "      <td>Elderly</td>\n",
       "      <td>0.0</td>\n",
       "      <td>0.0</td>\n",
       "      <td>0.000000</td>\n",
       "    </tr>\n",
       "  </tbody>\n",
       "</table>\n",
       "<p>201600 rows × 8 columns</p>\n",
       "</div>"
      ],
      "text/plain": [
       "       Indicator Name  Year     Sex Age Group Age Category    Number  \\\n",
       "0          All Causes  2020     All     [All]     All Ages  109155.0   \n",
       "1          All Causes  2020     All       [0]       Infant    2367.0   \n",
       "2          All Causes  2020     All     [1-4]      Toddler     410.0   \n",
       "3          All Causes  2020     All     [5-9]        Child     294.0   \n",
       "4          All Causes  2020     All   [10-14]        Child     402.0   \n",
       "...               ...   ...     ...       ...          ...       ...   \n",
       "201595       COVID-19  2000  Female   [65-69]       Senior       0.0   \n",
       "201596       COVID-19  2000  Female   [70-74]       Senior       0.0   \n",
       "201597       COVID-19  2000  Female   [75-79]       Senior       0.0   \n",
       "201598       COVID-19  2000  Female   [80-84]      Elderly       0.0   \n",
       "201599       COVID-19  2000  Female     [85+]      Elderly       0.0   \n",
       "\n",
       "        Percent of All Causes  Death Rate  \n",
       "0                       100.0  337.252065  \n",
       "1                       100.0  444.185060  \n",
       "2                       100.0   19.503136  \n",
       "3                       100.0   11.722119  \n",
       "4                       100.0   16.434815  \n",
       "...                       ...         ...  \n",
       "201595                    0.0    0.000000  \n",
       "201596                    0.0    0.000000  \n",
       "201597                    0.0    0.000000  \n",
       "201598                    0.0    0.000000  \n",
       "201599                    0.0    0.000000  \n",
       "\n",
       "[201600 rows x 8 columns]"
      ]
     },
     "execution_count": 42,
     "metadata": {},
     "output_type": "execute_result"
    }
   ],
   "source": [
    "import pandas as pd\n",
    "import seaborn as sns\n",
    "import matplotlib.pyplot as plt\n",
    "import plotly.graph_objects as go\n",
    "\n",
    "df = pd.read_csv(\"../dataset/clean_data.csv\")\n",
    "df"
   ]
  },
  {
   "cell_type": "markdown",
   "id": "e96769ea-48b7-455b-992b-2d7eef7c2b73",
   "metadata": {},
   "source": [
    "# Death Rate per Year"
   ]
  },
  {
   "cell_type": "code",
   "execution_count": 43,
   "id": "27eded46-34c0-4031-b4e3-d631b58e6c5e",
   "metadata": {},
   "outputs": [
    {
     "data": {
      "text/html": [
       "<div>\n",
       "<style scoped>\n",
       "    .dataframe tbody tr th:only-of-type {\n",
       "        vertical-align: middle;\n",
       "    }\n",
       "\n",
       "    .dataframe tbody tr th {\n",
       "        vertical-align: top;\n",
       "    }\n",
       "\n",
       "    .dataframe thead th {\n",
       "        text-align: right;\n",
       "    }\n",
       "</style>\n",
       "<table border=\"1\" class=\"dataframe\">\n",
       "  <thead>\n",
       "    <tr style=\"text-align: right;\">\n",
       "      <th></th>\n",
       "      <th>Indicator Name</th>\n",
       "      <th>Year</th>\n",
       "      <th>Sex</th>\n",
       "      <th>Age Group</th>\n",
       "      <th>Age Category</th>\n",
       "      <th>Number</th>\n",
       "      <th>Percent of All Causes</th>\n",
       "      <th>Death Rate</th>\n",
       "    </tr>\n",
       "  </thead>\n",
       "  <tbody>\n",
       "    <tr>\n",
       "      <th>0</th>\n",
       "      <td>All Causes</td>\n",
       "      <td>2020</td>\n",
       "      <td>All</td>\n",
       "      <td>[All]</td>\n",
       "      <td>All Ages</td>\n",
       "      <td>109155.0</td>\n",
       "      <td>100.0</td>\n",
       "      <td>337.252065</td>\n",
       "    </tr>\n",
       "    <tr>\n",
       "      <th>9600</th>\n",
       "      <td>All Causes</td>\n",
       "      <td>2019</td>\n",
       "      <td>All</td>\n",
       "      <td>[All]</td>\n",
       "      <td>All Ages</td>\n",
       "      <td>109164.0</td>\n",
       "      <td>100.0</td>\n",
       "      <td>341.673746</td>\n",
       "    </tr>\n",
       "    <tr>\n",
       "      <th>19200</th>\n",
       "      <td>All Causes</td>\n",
       "      <td>2018</td>\n",
       "      <td>All</td>\n",
       "      <td>[All]</td>\n",
       "      <td>All Ages</td>\n",
       "      <td>117387.0</td>\n",
       "      <td>100.0</td>\n",
       "      <td>372.325797</td>\n",
       "    </tr>\n",
       "    <tr>\n",
       "      <th>28800</th>\n",
       "      <td>All Causes</td>\n",
       "      <td>2017</td>\n",
       "      <td>All</td>\n",
       "      <td>[All]</td>\n",
       "      <td>All Ages</td>\n",
       "      <td>97440.0</td>\n",
       "      <td>100.0</td>\n",
       "      <td>313.265099</td>\n",
       "    </tr>\n",
       "    <tr>\n",
       "      <th>38400</th>\n",
       "      <td>All Causes</td>\n",
       "      <td>2016</td>\n",
       "      <td>All</td>\n",
       "      <td>[All]</td>\n",
       "      <td>All Ages</td>\n",
       "      <td>85637.0</td>\n",
       "      <td>100.0</td>\n",
       "      <td>279.087390</td>\n",
       "    </tr>\n",
       "    <tr>\n",
       "      <th>48000</th>\n",
       "      <td>All Causes</td>\n",
       "      <td>2015</td>\n",
       "      <td>All</td>\n",
       "      <td>[All]</td>\n",
       "      <td>All Ages</td>\n",
       "      <td>80691.0</td>\n",
       "      <td>100.0</td>\n",
       "      <td>266.562391</td>\n",
       "    </tr>\n",
       "    <tr>\n",
       "      <th>57600</th>\n",
       "      <td>All Causes</td>\n",
       "      <td>2014</td>\n",
       "      <td>All</td>\n",
       "      <td>[All]</td>\n",
       "      <td>All Ages</td>\n",
       "      <td>77365.0</td>\n",
       "      <td>100.0</td>\n",
       "      <td>251.933282</td>\n",
       "    </tr>\n",
       "    <tr>\n",
       "      <th>67200</th>\n",
       "      <td>All Causes</td>\n",
       "      <td>2013</td>\n",
       "      <td>All</td>\n",
       "      <td>[All]</td>\n",
       "      <td>All Ages</td>\n",
       "      <td>74147.0</td>\n",
       "      <td>100.0</td>\n",
       "      <td>245.408832</td>\n",
       "    </tr>\n",
       "    <tr>\n",
       "      <th>76800</th>\n",
       "      <td>All Causes</td>\n",
       "      <td>2012</td>\n",
       "      <td>All</td>\n",
       "      <td>[All]</td>\n",
       "      <td>All Ages</td>\n",
       "      <td>71848.0</td>\n",
       "      <td>100.0</td>\n",
       "      <td>243.469829</td>\n",
       "    </tr>\n",
       "    <tr>\n",
       "      <th>86400</th>\n",
       "      <td>All Causes</td>\n",
       "      <td>2011</td>\n",
       "      <td>All</td>\n",
       "      <td>[All]</td>\n",
       "      <td>All Ages</td>\n",
       "      <td>70836.0</td>\n",
       "      <td>100.0</td>\n",
       "      <td>243.740666</td>\n",
       "    </tr>\n",
       "    <tr>\n",
       "      <th>96000</th>\n",
       "      <td>All Causes</td>\n",
       "      <td>2010</td>\n",
       "      <td>All</td>\n",
       "      <td>[All]</td>\n",
       "      <td>All Ages</td>\n",
       "      <td>68518.0</td>\n",
       "      <td>100.0</td>\n",
       "      <td>239.668649</td>\n",
       "    </tr>\n",
       "    <tr>\n",
       "      <th>105600</th>\n",
       "      <td>All Causes</td>\n",
       "      <td>2009</td>\n",
       "      <td>All</td>\n",
       "      <td>[All]</td>\n",
       "      <td>All Ages</td>\n",
       "      <td>67488.0</td>\n",
       "      <td>100.0</td>\n",
       "      <td>240.329068</td>\n",
       "    </tr>\n",
       "    <tr>\n",
       "      <th>115200</th>\n",
       "      <td>All Causes</td>\n",
       "      <td>2008</td>\n",
       "      <td>All</td>\n",
       "      <td>[All]</td>\n",
       "      <td>All Ages</td>\n",
       "      <td>76016.0</td>\n",
       "      <td>100.0</td>\n",
       "      <td>275.743989</td>\n",
       "    </tr>\n",
       "    <tr>\n",
       "      <th>124800</th>\n",
       "      <td>All Causes</td>\n",
       "      <td>2007</td>\n",
       "      <td>All</td>\n",
       "      <td>[All]</td>\n",
       "      <td>All Ages</td>\n",
       "      <td>71030.0</td>\n",
       "      <td>100.0</td>\n",
       "      <td>262.506283</td>\n",
       "    </tr>\n",
       "    <tr>\n",
       "      <th>134400</th>\n",
       "      <td>All Causes</td>\n",
       "      <td>2006</td>\n",
       "      <td>All</td>\n",
       "      <td>[All]</td>\n",
       "      <td>All Ages</td>\n",
       "      <td>68124.0</td>\n",
       "      <td>100.0</td>\n",
       "      <td>259.995807</td>\n",
       "    </tr>\n",
       "    <tr>\n",
       "      <th>144000</th>\n",
       "      <td>All Causes</td>\n",
       "      <td>2005</td>\n",
       "      <td>All</td>\n",
       "      <td>[All]</td>\n",
       "      <td>All Ages</td>\n",
       "      <td>65941.0</td>\n",
       "      <td>100.0</td>\n",
       "      <td>256.673537</td>\n",
       "    </tr>\n",
       "    <tr>\n",
       "      <th>153600</th>\n",
       "      <td>All Causes</td>\n",
       "      <td>2004</td>\n",
       "      <td>All</td>\n",
       "      <td>[All]</td>\n",
       "      <td>All Ages</td>\n",
       "      <td>64785.0</td>\n",
       "      <td>100.0</td>\n",
       "      <td>257.178734</td>\n",
       "    </tr>\n",
       "    <tr>\n",
       "      <th>163200</th>\n",
       "      <td>All Causes</td>\n",
       "      <td>2003</td>\n",
       "      <td>All</td>\n",
       "      <td>[All]</td>\n",
       "      <td>All Ages</td>\n",
       "      <td>61748.0</td>\n",
       "      <td>100.0</td>\n",
       "      <td>250.003856</td>\n",
       "    </tr>\n",
       "    <tr>\n",
       "      <th>172800</th>\n",
       "      <td>All Causes</td>\n",
       "      <td>2002</td>\n",
       "      <td>All</td>\n",
       "      <td>[All]</td>\n",
       "      <td>All Ages</td>\n",
       "      <td>57645.0</td>\n",
       "      <td>100.0</td>\n",
       "      <td>238.119915</td>\n",
       "    </tr>\n",
       "    <tr>\n",
       "      <th>182400</th>\n",
       "      <td>All Causes</td>\n",
       "      <td>2001</td>\n",
       "      <td>All</td>\n",
       "      <td>[All]</td>\n",
       "      <td>All Ages</td>\n",
       "      <td>56309.0</td>\n",
       "      <td>100.0</td>\n",
       "      <td>237.499335</td>\n",
       "    </tr>\n",
       "    <tr>\n",
       "      <th>192000</th>\n",
       "      <td>All Causes</td>\n",
       "      <td>2000</td>\n",
       "      <td>All</td>\n",
       "      <td>[All]</td>\n",
       "      <td>All Ages</td>\n",
       "      <td>51960.0</td>\n",
       "      <td>100.0</td>\n",
       "      <td>224.020972</td>\n",
       "    </tr>\n",
       "  </tbody>\n",
       "</table>\n",
       "</div>"
      ],
      "text/plain": [
       "       Indicator Name  Year  Sex Age Group Age Category    Number  \\\n",
       "0          All Causes  2020  All     [All]     All Ages  109155.0   \n",
       "9600       All Causes  2019  All     [All]     All Ages  109164.0   \n",
       "19200      All Causes  2018  All     [All]     All Ages  117387.0   \n",
       "28800      All Causes  2017  All     [All]     All Ages   97440.0   \n",
       "38400      All Causes  2016  All     [All]     All Ages   85637.0   \n",
       "48000      All Causes  2015  All     [All]     All Ages   80691.0   \n",
       "57600      All Causes  2014  All     [All]     All Ages   77365.0   \n",
       "67200      All Causes  2013  All     [All]     All Ages   74147.0   \n",
       "76800      All Causes  2012  All     [All]     All Ages   71848.0   \n",
       "86400      All Causes  2011  All     [All]     All Ages   70836.0   \n",
       "96000      All Causes  2010  All     [All]     All Ages   68518.0   \n",
       "105600     All Causes  2009  All     [All]     All Ages   67488.0   \n",
       "115200     All Causes  2008  All     [All]     All Ages   76016.0   \n",
       "124800     All Causes  2007  All     [All]     All Ages   71030.0   \n",
       "134400     All Causes  2006  All     [All]     All Ages   68124.0   \n",
       "144000     All Causes  2005  All     [All]     All Ages   65941.0   \n",
       "153600     All Causes  2004  All     [All]     All Ages   64785.0   \n",
       "163200     All Causes  2003  All     [All]     All Ages   61748.0   \n",
       "172800     All Causes  2002  All     [All]     All Ages   57645.0   \n",
       "182400     All Causes  2001  All     [All]     All Ages   56309.0   \n",
       "192000     All Causes  2000  All     [All]     All Ages   51960.0   \n",
       "\n",
       "        Percent of All Causes  Death Rate  \n",
       "0                       100.0  337.252065  \n",
       "9600                    100.0  341.673746  \n",
       "19200                   100.0  372.325797  \n",
       "28800                   100.0  313.265099  \n",
       "38400                   100.0  279.087390  \n",
       "48000                   100.0  266.562391  \n",
       "57600                   100.0  251.933282  \n",
       "67200                   100.0  245.408832  \n",
       "76800                   100.0  243.469829  \n",
       "86400                   100.0  243.740666  \n",
       "96000                   100.0  239.668649  \n",
       "105600                  100.0  240.329068  \n",
       "115200                  100.0  275.743989  \n",
       "124800                  100.0  262.506283  \n",
       "134400                  100.0  259.995807  \n",
       "144000                  100.0  256.673537  \n",
       "153600                  100.0  257.178734  \n",
       "163200                  100.0  250.003856  \n",
       "172800                  100.0  238.119915  \n",
       "182400                  100.0  237.499335  \n",
       "192000                  100.0  224.020972  "
      ]
     },
     "execution_count": 43,
     "metadata": {},
     "output_type": "execute_result"
    }
   ],
   "source": [
    "# Filter for total population and all causes\n",
    "filtered = df[\n",
    "    (df['Sex'] == 'All') &\n",
    "    (df['Age Group'] == '[All]') &\n",
    "    (df['Indicator Name'] == 'All Causes')\n",
    "].copy()\n",
    "filtered"
   ]
  },
  {
   "cell_type": "code",
   "execution_count": 44,
   "id": "7ba0cedc-b804-4940-8f01-19bcd076d125",
   "metadata": {},
   "outputs": [
    {
     "data": {
      "image/png": "[encoded data removed]",
      "text/plain": [
       "<Figure size 1000x600 with 1 Axes>"
      ]
     },
     "metadata": {},
     "output_type": "display_data"
    }
   ],
   "source": [
    "# Plot\n",
    "plt.figure(figsize=(10, 6))\n",
    "sns.lineplot(data=filtered, x='Year', y='Death Rate', marker='o', color='darkred')\n",
    "plt.title('Death Rate per Year for All Causes (All Genders, All Ages)', fontsize=14)\n",
    "plt.xlabel('Year')\n",
    "plt.ylabel('Death Rate (per 100,000 population)')\n",
    "plt.xticks(ticks=range(2000, 2021))\n",
    "plt.grid(True)\n",
    "plt.tight_layout()\n",
    "plt.show()"
   ]
  },
  {
   "cell_type": "markdown",
   "id": "cf060ff2-755b-4aa7-9422-cb4e08ba5818",
   "metadata": {},
   "source": [
    "# Growth Rate of Death Rate per Year"
   ]
  },
  {
   "cell_type": "code",
   "execution_count": 45,
   "id": "68dfe53d-d3dd-41e3-991b-e58e8a52d782",
   "metadata": {},
   "outputs": [
    {
     "name": "stdout",
     "output_type": "stream",
     "text": [
      "    Year  Death Rate  Death_Rate_Growth_%\n",
      "0   2000  224.020972                 0.00\n",
      "1   2001  237.499335                 6.02\n",
      "2   2002  238.119915                 0.26\n",
      "3   2003  250.003856                 4.99\n",
      "4   2004  257.178734                 2.87\n",
      "5   2005  256.673537                -0.20\n",
      "6   2006  259.995807                 1.29\n",
      "7   2007  262.506283                 0.97\n",
      "8   2008  275.743989                 5.04\n",
      "9   2009  240.329068               -12.84\n",
      "10  2010  239.668649                -0.27\n",
      "11  2011  243.740666                 1.70\n",
      "12  2012  243.469829                -0.11\n",
      "13  2013  245.408832                 0.80\n",
      "14  2014  251.933282                 2.66\n",
      "15  2015  266.562391                 5.81\n",
      "16  2016  279.087390                 4.70\n",
      "17  2017  313.265099                12.25\n",
      "18  2018  372.325797                18.85\n",
      "19  2019  341.673746                -8.23\n",
      "20  2020  337.252065                -1.29\n"
     ]
    }
   ],
   "source": [
    "# Growth rate of Death Rate in percentage year by year for All Causes (All Genders, All Ages)\n",
    "filtered = filtered.sort_values('Year').reset_index(drop=True)\n",
    "filtered['Death_Rate_Growth_%'] = filtered['Death Rate'].pct_change(fill_method=None) * 100\n",
    "filtered['Death_Rate_Growth_%'] = filtered['Death_Rate_Growth_%'].round(2)\n",
    "filtered.loc[0, 'Death_Rate_Growth_%'] = 0\n",
    "result = filtered[['Year', 'Death Rate', 'Death_Rate_Growth_%']].reset_index(drop=True)\n",
    "print(result)"
   ]
  },
  {
   "cell_type": "code",
   "execution_count": 64,
   "id": "07229668-3ead-4164-8efb-1276c7d49ca9",
   "metadata": {},
   "outputs": [
    {
     "data": {
      "application/vnd.plotly.v1+json": {
       "config": {
        "plotlyServerURL": "https://plot.ly"
       },
       "data": [
        {
         "hovertemplate": "%{text}<extra></extra>",
         "line": {
          "color": "lightgray",
          "width": 2
         },
         "marker": {
          "color": [
           "gray",
           "red",
           "red",
           "red",
           "red",
           "green",
           "red",
           "red",
           "red",
           "green",
           "green",
           "red",
           "green",
           "red",
           "red",
           "red",
           "red",
           "red",
           "red",
           "green",
           "green"
          ],
          "line": {
           "color": "black",
           "width": 2
          },
          "size": 10
         },
         "mode": "lines+markers",
         "name": "Death_Rate_Growth_%",
         "text": [
          "2000<br>Growth Rate: 0.0%<br>Death Rate: 224.02<br>Deaths: 51,960",
          "2001<br>Growth Rate: 6.02%<br>Death Rate: 237.50<br>Deaths: 56,309",
          "2002<br>Growth Rate: 0.26%<br>Death Rate: 238.12<br>Deaths: 57,645",
          "2003<br>Growth Rate: 4.99%<br>Death Rate: 250.00<br>Deaths: 61,748",
          "2004<br>Growth Rate: 2.87%<br>Death Rate: 257.18<br>Deaths: 64,785",
          "2005<br>Growth Rate: -0.2%<br>Death Rate: 256.67<br>Deaths: 65,941",
          "2006<br>Growth Rate: 1.29%<br>Death Rate: 260.00<br>Deaths: 68,124",
          "2007<br>Growth Rate: 0.97%<br>Death Rate: 262.51<br>Deaths: 71,030",
          "2008<br>Growth Rate: 5.04%<br>Death Rate: 275.74<br>Deaths: 76,016",
          "2009<br>Growth Rate: -12.84%<br>Death Rate: 240.33<br>Deaths: 67,488",
          "2010<br>Growth Rate: -0.27%<br>Death Rate: 239.67<br>Deaths: 68,518",
          "2011<br>Growth Rate: 1.7%<br>Death Rate: 243.74<br>Deaths: 70,836",
          "2012<br>Growth Rate: -0.11%<br>Death Rate: 243.47<br>Deaths: 71,848",
          "2013<br>Growth Rate: 0.8%<br>Death Rate: 245.41<br>Deaths: 74,147",
          "2014<br>Growth Rate: 2.66%<br>Death Rate: 251.93<br>Deaths: 77,365",
          "2015<br>Growth Rate: 5.81%<br>Death Rate: 266.56<br>Deaths: 80,691",
          "2016<br>Growth Rate: 4.7%<br>Death Rate: 279.09<br>Deaths: 85,637",
          "2017<br>Growth Rate: 12.25%<br>Death Rate: 313.27<br>Deaths: 97,440",
          "2018<br>Growth Rate: 18.85%<br>Death Rate: 372.33<br>Deaths: 117,387",
          "2019<br>Growth Rate: -8.23%<br>Death Rate: 341.67<br>Deaths: 109,164",
          "2020<br>Growth Rate: -1.29%<br>Death Rate: 337.25<br>Deaths: 109,155"
         ],
         "type": "scatter",
         "x": {
          "bdata": "0AfRB9IH0wfUB9UH1gfXB9gH2QfaB9sH3AfdB94H3wfgB+EH4gfjB+QH",
          "dtype": "i2"
         },
         "y": {
          "bdata": "AAAAAAAAAAAUrkfhehQYQKRwPQrXo9A/9ihcj8L1E0D2KFyPwvUGQJqZmZmZmcm/pHA9Ctej9D8K16NwPQrvPylcj8L1KBRArkfhehSuKcBI4XoUrkfRvzMzMzMzM/s/KVyPwvUovL+amZmZmZnpP0jhehSuRwVAPQrXo3A9F0DNzMzMzMwSQAAAAAAAgChAmpmZmZnZMkD2KFyPwnUgwKRwPQrXo/S/",
          "dtype": "f8"
         }
        }
       ],
       "layout": {
        "font": {
         "size": 12
        },
        "height": 500,
        "plot_bgcolor": "white",
        "shapes": [
         {
          "line": {
           "color": "gray",
           "dash": "dash"
          },
          "type": "line",
          "x0": 0,
          "x1": 1,
          "xref": "x domain",
          "y0": 0,
          "y1": 0,
          "yref": "y"
         }
        ],
        "template": {
         "data": {
          "bar": [
           {
            "error_x": {
             "color": "#2a3f5f"
            },
            "error_y": {
             "color": "#2a3f5f"
            },
            "marker": {
             "line": {
              "color": "#E5ECF6",
              "width": 0.5
             },
             "pattern": {
              "fillmode": "overlay",
              "size": 10,
              "solidity": 0.2
             }
            },
            "type": "bar"
           }
          ],
          "barpolar": [
           {
            "marker": {
             "line": {
              "color": "#E5ECF6",
              "width": 0.5
             },
             "pattern": {
              "fillmode": "overlay",
              "size": 10,
              "solidity": 0.2
             }
            },
            "type": "barpolar"
           }
          ],
          "carpet": [
           {
            "aaxis": {
             "endlinecolor": "#2a3f5f",
             "gridcolor": "white",
             "linecolor": "white",
             "minorgridcolor": "white",
             "startlinecolor": "#2a3f5f"
            },
            "baxis": {
             "endlinecolor": "#2a3f5f",
             "gridcolor": "white",
             "linecolor": "white",
             "minorgridcolor": "white",
             "startlinecolor": "#2a3f5f"
            },
            "type": "carpet"
           }
          ],
          "choropleth": [
           {
            "colorbar": {
             "outlinewidth": 0,
             "ticks": ""
            },
            "type": "choropleth"
           }
          ],
          "contour": [
           {
            "colorbar": {
             "outlinewidth": 0,
             "ticks": ""
            },
            "colorscale": [
             [
              0,
              "#0d0887"
             ],
             [
              0.1111111111111111,
              "#46039f"
             ],
             [
              0.2222222222222222,
              "#7201a8"
             ],
             [
              0.3333333333333333,
              "#9c179e"
             ],
             [
              0.4444444444444444,
              "#bd3786"
             ],
             [
              0.5555555555555556,
              "#d8576b"
             ],
             [
              0.6666666666666666,
              "#ed7953"
             ],
             [
              0.7777777777777778,
              "#fb9f3a"
             ],
             [
              0.8888888888888888,
              "#fdca26"
             ],
             [
              1,
              "#f0f921"
             ]
            ],
            "type": "contour"
           }
          ],
          "contourcarpet": [
           {
            "colorbar": {
             "outlinewidth": 0,
             "ticks": ""
            },
            "type": "contourcarpet"
           }
          ],
          "heatmap": [
           {
            "colorbar": {
             "outlinewidth": 0,
             "ticks": ""
            },
            "colorscale": [
             [
              0,
              "#0d0887"
             ],
             [
              0.1111111111111111,
              "#46039f"
             ],
             [
              0.2222222222222222,
              "#7201a8"
             ],
             [
              0.3333333333333333,
              "#9c179e"
             ],
             [
              0.4444444444444444,
              "#bd3786"
             ],
             [
              0.5555555555555556,
              "#d8576b"
             ],
             [
              0.6666666666666666,
              "#ed7953"
             ],
             [
              0.7777777777777778,
              "#fb9f3a"
             ],
             [
              0.8888888888888888,
              "#fdca26"
             ],
             [
              1,
              "#f0f921"
             ]
            ],
            "type": "heatmap"
           }
          ],
          "histogram": [
           {
            "marker": {
             "pattern": {
              "fillmode": "overlay",
              "size": 10,
              "solidity": 0.2
             }
            },
            "type": "histogram"
           }
          ],
          "histogram2d": [
           {
            "colorbar": {
             "outlinewidth": 0,
             "ticks": ""
            },
            "colorscale": [
             [
              0,
              "#0d0887"
             ],
             [
              0.1111111111111111,
              "#46039f"
             ],
             [
              0.2222222222222222,
              "#7201a8"
             ],
             [
              0.3333333333333333,
              "#9c179e"
             ],
             [
              0.4444444444444444,
              "#bd3786"
             ],
             [
              0.5555555555555556,
              "#d8576b"
             ],
             [
              0.6666666666666666,
              "#ed7953"
             ],
             [
              0.7777777777777778,
              "#fb9f3a"
             ],
             [
              0.8888888888888888,
              "#fdca26"
             ],
             [
              1,
              "#f0f921"
             ]
            ],
            "type": "histogram2d"
           }
          ],
          "histogram2dcontour": [
           {
            "colorbar": {
             "outlinewidth": 0,
             "ticks": ""
            },
            "colorscale": [
             [
              0,
              "#0d0887"
             ],
             [
              0.1111111111111111,
              "#46039f"
             ],
             [
              0.2222222222222222,
              "#7201a8"
             ],
             [
              0.3333333333333333,
              "#9c179e"
             ],
             [
              0.4444444444444444,
              "#bd3786"
             ],
             [
              0.5555555555555556,
              "#d8576b"
             ],
             [
              0.6666666666666666,
              "#ed7953"
             ],
             [
              0.7777777777777778,
              "#fb9f3a"
             ],
             [
              0.8888888888888888,
              "#fdca26"
             ],
             [
              1,
              "#f0f921"
             ]
            ],
            "type": "histogram2dcontour"
           }
          ],
          "mesh3d": [
           {
            "colorbar": {
             "outlinewidth": 0,
             "ticks": ""
            },
            "type": "mesh3d"
           }
          ],
          "parcoords": [
           {
            "line": {
             "colorbar": {
              "outlinewidth": 0,
              "ticks": ""
             }
            },
            "type": "parcoords"
           }
          ],
          "pie": [
           {
            "automargin": true,
            "type": "pie"
           }
          ],
          "scatter": [
           {
            "fillpattern": {
             "fillmode": "overlay",
             "size": 10,
             "solidity": 0.2
            },
            "type": "scatter"
           }
          ],
          "scatter3d": [
           {
            "line": {
             "colorbar": {
              "outlinewidth": 0,
              "ticks": ""
             }
            },
            "marker": {
             "colorbar": {
              "outlinewidth": 0,
              "ticks": ""
             }
            },
            "type": "scatter3d"
           }
          ],
          "scattercarpet": [
           {
            "marker": {
             "colorbar": {
              "outlinewidth": 0,
              "ticks": ""
             }
            },
            "type": "scattercarpet"
           }
          ],
          "scattergeo": [
           {
            "marker": {
             "colorbar": {
              "outlinewidth": 0,
              "ticks": ""
             }
            },
            "type": "scattergeo"
           }
          ],
          "scattergl": [
           {
            "marker": {
             "colorbar": {
              "outlinewidth": 0,
              "ticks": ""
             }
            },
            "type": "scattergl"
           }
          ],
          "scattermap": [
           {
            "marker": {
             "colorbar": {
              "outlinewidth": 0,
              "ticks": ""
             }
            },
            "type": "scattermap"
           }
          ],
          "scattermapbox": [
           {
            "marker": {
             "colorbar": {
              "outlinewidth": 0,
              "ticks": ""
             }
            },
            "type": "scattermapbox"
           }
          ],
          "scatterpolar": [
           {
            "marker": {
             "colorbar": {
              "outlinewidth": 0,
              "ticks": ""
             }
            },
            "type": "scatterpolar"
           }
          ],
          "scatterpolargl": [
           {
            "marker": {
             "colorbar": {
              "outlinewidth": 0,
              "ticks": ""
             }
            },
            "type": "scatterpolargl"
           }
          ],
          "scatterternary": [
           {
            "marker": {
             "colorbar": {
              "outlinewidth": 0,
              "ticks": ""
             }
            },
            "type": "scatterternary"
           }
          ],
          "surface": [
           {
            "colorbar": {
             "outlinewidth": 0,
             "ticks": ""
            },
            "colorscale": [
             [
              0,
              "#0d0887"
             ],
             [
              0.1111111111111111,
              "#46039f"
             ],
             [
              0.2222222222222222,
              "#7201a8"
             ],
             [
              0.3333333333333333,
              "#9c179e"
             ],
             [
              0.4444444444444444,
              "#bd3786"
             ],
             [
              0.5555555555555556,
              "#d8576b"
             ],
             [
              0.6666666666666666,
              "#ed7953"
             ],
             [
              0.7777777777777778,
              "#fb9f3a"
             ],
             [
              0.8888888888888888,
              "#fdca26"
             ],
             [
              1,
              "#f0f921"
             ]
            ],
            "type": "surface"
           }
          ],
          "table": [
           {
            "cells": {
             "fill": {
              "color": "#EBF0F8"
             },
             "line": {
              "color": "white"
             }
            },
            "header": {
             "fill": {
              "color": "#C8D4E3"
             },
             "line": {
              "color": "white"
             }
            },
            "type": "table"
           }
          ]
         },
         "layout": {
          "annotationdefaults": {
           "arrowcolor": "#2a3f5f",
           "arrowhead": 0,
           "arrowwidth": 1
          },
          "autotypenumbers": "strict",
          "coloraxis": {
           "colorbar": {
            "outlinewidth": 0,
            "ticks": ""
           }
          },
          "colorscale": {
           "diverging": [
            [
             0,
             "#8e0152"
            ],
            [
             0.1,
             "#c51b7d"
            ],
            [
             0.2,
             "#de77ae"
            ],
            [
             0.3,
             "#f1b6da"
            ],
            [
             0.4,
             "#fde0ef"
            ],
            [
             0.5,
             "#f7f7f7"
            ],
            [
             0.6,
             "#e6f5d0"
            ],
            [
             0.7,
             "#b8e186"
            ],
            [
             0.8,
             "#7fbc41"
            ],
            [
             0.9,
             "#4d9221"
            ],
            [
             1,
             "#276419"
            ]
           ],
           "sequential": [
            [
             0,
             "#0d0887"
            ],
            [
             0.1111111111111111,
             "#46039f"
            ],
            [
             0.2222222222222222,
             "#7201a8"
            ],
            [
             0.3333333333333333,
             "#9c179e"
            ],
            [
             0.4444444444444444,
             "#bd3786"
            ],
            [
             0.5555555555555556,
             "#d8576b"
            ],
            [
             0.6666666666666666,
             "#ed7953"
            ],
            [
             0.7777777777777778,
             "#fb9f3a"
            ],
            [
             0.8888888888888888,
             "#fdca26"
            ],
            [
             1,
             "#f0f921"
            ]
           ],
           "sequentialminus": [
            [
             0,
             "#0d0887"
            ],
            [
             0.1111111111111111,
             "#46039f"
            ],
            [
             0.2222222222222222,
             "#7201a8"
            ],
            [
             0.3333333333333333,
             "#9c179e"
            ],
            [
             0.4444444444444444,
             "#bd3786"
            ],
            [
             0.5555555555555556,
             "#d8576b"
            ],
            [
             0.6666666666666666,
             "#ed7953"
            ],
            [
             0.7777777777777778,
             "#fb9f3a"
            ],
            [
             0.8888888888888888,
             "#fdca26"
            ],
            [
             1,
             "#f0f921"
            ]
           ]
          },
          "colorway": [
           "#636efa",
           "#EF553B",
           "#00cc96",
           "#ab63fa",
           "#FFA15A",
           "#19d3f3",
           "#FF6692",
           "#B6E880",
           "#FF97FF",
           "#FECB52"
          ],
          "font": {
           "color": "#2a3f5f"
          },
          "geo": {
           "bgcolor": "white",
           "lakecolor": "white",
           "landcolor": "#E5ECF6",
           "showlakes": true,
           "showland": true,
           "subunitcolor": "white"
          },
          "hoverlabel": {
           "align": "left"
          },
          "hovermode": "closest",
          "mapbox": {
           "style": "light"
          },
          "paper_bgcolor": "white",
          "plot_bgcolor": "#E5ECF6",
          "polar": {
           "angularaxis": {
            "gridcolor": "white",
            "linecolor": "white",
            "ticks": ""
           },
           "bgcolor": "#E5ECF6",
           "radialaxis": {
            "gridcolor": "white",
            "linecolor": "white",
            "ticks": ""
           }
          },
          "scene": {
           "xaxis": {
            "backgroundcolor": "#E5ECF6",
            "gridcolor": "white",
            "gridwidth": 2,
            "linecolor": "white",
            "showbackground": true,
            "ticks": "",
            "zerolinecolor": "white"
           },
           "yaxis": {
            "backgroundcolor": "#E5ECF6",
            "gridcolor": "white",
            "gridwidth": 2,
            "linecolor": "white",
            "showbackground": true,
            "ticks": "",
            "zerolinecolor": "white"
           },
           "zaxis": {
            "backgroundcolor": "#E5ECF6",
            "gridcolor": "white",
            "gridwidth": 2,
            "linecolor": "white",
            "showbackground": true,
            "ticks": "",
            "zerolinecolor": "white"
           }
          },
          "shapedefaults": {
           "line": {
            "color": "#2a3f5f"
           }
          },
          "ternary": {
           "aaxis": {
            "gridcolor": "white",
            "linecolor": "white",
            "ticks": ""
           },
           "baxis": {
            "gridcolor": "white",
            "linecolor": "white",
            "ticks": ""
           },
           "bgcolor": "#E5ECF6",
           "caxis": {
            "gridcolor": "white",
            "linecolor": "white",
            "ticks": ""
           }
          },
          "title": {
           "x": 0.05
          },
          "xaxis": {
           "automargin": true,
           "gridcolor": "white",
           "linecolor": "white",
           "ticks": "",
           "title": {
            "standoff": 15
           },
           "zerolinecolor": "white",
           "zerolinewidth": 2
          },
          "yaxis": {
           "automargin": true,
           "gridcolor": "white",
           "linecolor": "white",
           "ticks": "",
           "title": {
            "standoff": 15
           },
           "zerolinecolor": "white",
           "zerolinewidth": 2
          }
         }
        },
        "title": {
         "text": "Death Rate Growth for All Causes (2000–2020)"
        },
        "xaxis": {
         "dtick": 1,
         "gridcolor": "lightgray",
         "gridwidth": 1,
         "showgrid": true,
         "tickangle": 0,
         "tickfont": {
          "size": 10
         },
         "tickmode": "linear",
         "title": {
          "text": "Year"
         }
        },
        "yaxis": {
         "gridcolor": "lightgray",
         "gridwidth": 1,
         "showgrid": true,
         "title": {
          "text": "Death Rate Growth (%)"
         },
         "zeroline": true,
         "zerolinecolor": "black"
        }
       }
      },
      "image/png": "[encoded data removed]"
     },
     "metadata": {},
     "output_type": "display_data"
    }
   ],
   "source": [
    "# Assign marker colors based on growth rate\n",
    "def marker_color(val):\n",
    "    if val > 0:\n",
    "        return 'red'\n",
    "    elif val < 0:\n",
    "        return 'green'\n",
    "    else:\n",
    "        return 'gray'\n",
    "\n",
    "filtered['Color'] = filtered['Death_Rate_Growth_%'].apply(marker_color)\n",
    "\n",
    "# Create figure\n",
    "fig = go.Figure()\n",
    "\n",
    "# Add line with colored markers and custom tooltip\n",
    "fig.add_trace(go.Scatter(\n",
    "    x=filtered['Year'],\n",
    "    y=filtered['Death_Rate_Growth_%'],\n",
    "    mode='lines+markers',\n",
    "    marker=dict(\n",
    "        color=filtered['Color'],\n",
    "        size=10,\n",
    "        line=dict(width=2, color='black')\n",
    "    ),\n",
    "    line=dict(width=2, color='lightgray'),\n",
    "    text=[\n",
    "        f\"{year}<br>Growth Rate: {growth}%<br>Death Rate: {rate:.2f}<br>Deaths: {int(deaths):,}\"\n",
    "        for year, growth, rate, deaths in zip(\n",
    "            filtered['Year'],\n",
    "            filtered['Death_Rate_Growth_%'],\n",
    "            filtered['Death Rate'],\n",
    "            filtered['Number']\n",
    "        )\n",
    "    ],\n",
    "    hovertemplate='%{text}<extra></extra>',\n",
    "    name='Death_Rate_Growth_%'\n",
    "))\n",
    "\n",
    "# Add horizontal zero line\n",
    "fig.add_hline(y=0, line_dash='dash', line_color='gray')\n",
    "\n",
    "# Customize layout\n",
    "fig.update_layout(\n",
    "    title='Death Rate Growth for All Causes (2000–2020)',\n",
    "    xaxis=dict(\n",
    "        tickmode='linear',\n",
    "        dtick=1,\n",
    "        title='Year',\n",
    "        showgrid=True,\n",
    "        gridcolor='lightgray',\n",
    "        gridwidth=1,\n",
    "        tickangle=0,\n",
    "        tickfont=dict(size=10)\n",
    "    ),\n",
    "    yaxis=dict(\n",
    "        title='Death Rate Growth (%)',\n",
    "        showgrid=True,\n",
    "        gridcolor='lightgray',\n",
    "        gridwidth=1,\n",
    "        zeroline=True,\n",
    "        zerolinecolor='black'\n",
    "    ),\n",
    "    plot_bgcolor='white',\n",
    "    font=dict(size=12),\n",
    "    height=500\n",
    ")\n",
    "\n",
    "fig.show()"
   ]
  },
  {
   "cell_type": "markdown",
   "id": "29a1bc2d-a872-4b2d-9813-f18c4eacbb7f",
   "metadata": {},
   "source": [
    "# Top 5 Causes by Growth Rate of Death Rate"
   ]
  },
  {
   "cell_type": "code",
   "execution_count": 47,
   "id": "29120aa4-dbfc-468c-9adb-e8c6a4049117",
   "metadata": {},
   "outputs": [
    {
     "data": {
      "text/html": [
       "<div>\n",
       "<style scoped>\n",
       "    .dataframe tbody tr th:only-of-type {\n",
       "        vertical-align: middle;\n",
       "    }\n",
       "\n",
       "    .dataframe tbody tr th {\n",
       "        vertical-align: top;\n",
       "    }\n",
       "\n",
       "    .dataframe thead th {\n",
       "        text-align: right;\n",
       "    }\n",
       "</style>\n",
       "<table border=\"1\" class=\"dataframe\">\n",
       "  <thead>\n",
       "    <tr style=\"text-align: right;\">\n",
       "      <th></th>\n",
       "      <th>Indicator Name</th>\n",
       "      <th>Year</th>\n",
       "      <th>Sex</th>\n",
       "      <th>Age Group</th>\n",
       "      <th>Age Category</th>\n",
       "      <th>Number</th>\n",
       "      <th>Percent of All Causes</th>\n",
       "      <th>Death Rate</th>\n",
       "    </tr>\n",
       "  </thead>\n",
       "  <tbody>\n",
       "    <tr>\n",
       "      <th>20</th>\n",
       "      <td>Tuberculosis</td>\n",
       "      <td>2020</td>\n",
       "      <td>All</td>\n",
       "      <td>[All]</td>\n",
       "      <td>All Ages</td>\n",
       "      <td>886.0</td>\n",
       "      <td>0.811690</td>\n",
       "      <td>2.737441</td>\n",
       "    </tr>\n",
       "    <tr>\n",
       "      <th>21</th>\n",
       "      <td>Tuberculosis</td>\n",
       "      <td>2020</td>\n",
       "      <td>All</td>\n",
       "      <td>[0]</td>\n",
       "      <td>Infant</td>\n",
       "      <td>1.0</td>\n",
       "      <td>0.042248</td>\n",
       "      <td>0.187657</td>\n",
       "    </tr>\n",
       "    <tr>\n",
       "      <th>22</th>\n",
       "      <td>Tuberculosis</td>\n",
       "      <td>2020</td>\n",
       "      <td>All</td>\n",
       "      <td>[1-4]</td>\n",
       "      <td>Toddler</td>\n",
       "      <td>0.0</td>\n",
       "      <td>0.000000</td>\n",
       "      <td>0.000000</td>\n",
       "    </tr>\n",
       "    <tr>\n",
       "      <th>23</th>\n",
       "      <td>Tuberculosis</td>\n",
       "      <td>2020</td>\n",
       "      <td>All</td>\n",
       "      <td>[5-9]</td>\n",
       "      <td>Child</td>\n",
       "      <td>3.0</td>\n",
       "      <td>1.020408</td>\n",
       "      <td>0.119613</td>\n",
       "    </tr>\n",
       "    <tr>\n",
       "      <th>24</th>\n",
       "      <td>Tuberculosis</td>\n",
       "      <td>2020</td>\n",
       "      <td>All</td>\n",
       "      <td>[10-14]</td>\n",
       "      <td>Child</td>\n",
       "      <td>6.0</td>\n",
       "      <td>1.492537</td>\n",
       "      <td>0.245296</td>\n",
       "    </tr>\n",
       "    <tr>\n",
       "      <th>...</th>\n",
       "      <td>...</td>\n",
       "      <td>...</td>\n",
       "      <td>...</td>\n",
       "      <td>...</td>\n",
       "      <td>...</td>\n",
       "      <td>...</td>\n",
       "      <td>...</td>\n",
       "      <td>...</td>\n",
       "    </tr>\n",
       "    <tr>\n",
       "      <th>201595</th>\n",
       "      <td>COVID-19</td>\n",
       "      <td>2000</td>\n",
       "      <td>Female</td>\n",
       "      <td>[65-69]</td>\n",
       "      <td>Senior</td>\n",
       "      <td>0.0</td>\n",
       "      <td>0.000000</td>\n",
       "      <td>0.000000</td>\n",
       "    </tr>\n",
       "    <tr>\n",
       "      <th>201596</th>\n",
       "      <td>COVID-19</td>\n",
       "      <td>2000</td>\n",
       "      <td>Female</td>\n",
       "      <td>[70-74]</td>\n",
       "      <td>Senior</td>\n",
       "      <td>0.0</td>\n",
       "      <td>0.000000</td>\n",
       "      <td>0.000000</td>\n",
       "    </tr>\n",
       "    <tr>\n",
       "      <th>201597</th>\n",
       "      <td>COVID-19</td>\n",
       "      <td>2000</td>\n",
       "      <td>Female</td>\n",
       "      <td>[75-79]</td>\n",
       "      <td>Senior</td>\n",
       "      <td>0.0</td>\n",
       "      <td>0.000000</td>\n",
       "      <td>0.000000</td>\n",
       "    </tr>\n",
       "    <tr>\n",
       "      <th>201598</th>\n",
       "      <td>COVID-19</td>\n",
       "      <td>2000</td>\n",
       "      <td>Female</td>\n",
       "      <td>[80-84]</td>\n",
       "      <td>Elderly</td>\n",
       "      <td>0.0</td>\n",
       "      <td>0.000000</td>\n",
       "      <td>0.000000</td>\n",
       "    </tr>\n",
       "    <tr>\n",
       "      <th>201599</th>\n",
       "      <td>COVID-19</td>\n",
       "      <td>2000</td>\n",
       "      <td>Female</td>\n",
       "      <td>[85+]</td>\n",
       "      <td>Elderly</td>\n",
       "      <td>0.0</td>\n",
       "      <td>0.000000</td>\n",
       "      <td>0.000000</td>\n",
       "    </tr>\n",
       "  </tbody>\n",
       "</table>\n",
       "<p>200340 rows × 8 columns</p>\n",
       "</div>"
      ],
      "text/plain": [
       "       Indicator Name  Year     Sex Age Group Age Category  Number  \\\n",
       "20       Tuberculosis  2020     All     [All]     All Ages   886.0   \n",
       "21       Tuberculosis  2020     All       [0]       Infant     1.0   \n",
       "22       Tuberculosis  2020     All     [1-4]      Toddler     0.0   \n",
       "23       Tuberculosis  2020     All     [5-9]        Child     3.0   \n",
       "24       Tuberculosis  2020     All   [10-14]        Child     6.0   \n",
       "...               ...   ...     ...       ...          ...     ...   \n",
       "201595       COVID-19  2000  Female   [65-69]       Senior     0.0   \n",
       "201596       COVID-19  2000  Female   [70-74]       Senior     0.0   \n",
       "201597       COVID-19  2000  Female   [75-79]       Senior     0.0   \n",
       "201598       COVID-19  2000  Female   [80-84]      Elderly     0.0   \n",
       "201599       COVID-19  2000  Female     [85+]      Elderly     0.0   \n",
       "\n",
       "        Percent of All Causes  Death Rate  \n",
       "20                   0.811690    2.737441  \n",
       "21                   0.042248    0.187657  \n",
       "22                   0.000000    0.000000  \n",
       "23                   1.020408    0.119613  \n",
       "24                   1.492537    0.245296  \n",
       "...                       ...         ...  \n",
       "201595               0.000000    0.000000  \n",
       "201596               0.000000    0.000000  \n",
       "201597               0.000000    0.000000  \n",
       "201598               0.000000    0.000000  \n",
       "201599               0.000000    0.000000  \n",
       "\n",
       "[200340 rows x 8 columns]"
      ]
     },
     "execution_count": 47,
     "metadata": {},
     "output_type": "execute_result"
    }
   ],
   "source": [
    "# Filter out rows with 'All Causes'\n",
    "df = df[df['Indicator Name'] != 'All Causes']\n",
    "df"
   ]
  },
  {
   "cell_type": "code",
   "execution_count": 48,
   "id": "9753718d-eb11-4573-af71-0fe10cc8d6b5",
   "metadata": {},
   "outputs": [
    {
     "data": {
      "text/html": [
       "<div>\n",
       "<style scoped>\n",
       "    .dataframe tbody tr th:only-of-type {\n",
       "        vertical-align: middle;\n",
       "    }\n",
       "\n",
       "    .dataframe tbody tr th {\n",
       "        vertical-align: top;\n",
       "    }\n",
       "\n",
       "    .dataframe thead th {\n",
       "        text-align: right;\n",
       "    }\n",
       "</style>\n",
       "<table border=\"1\" class=\"dataframe\">\n",
       "  <thead>\n",
       "    <tr style=\"text-align: right;\">\n",
       "      <th></th>\n",
       "      <th>Indicator Name</th>\n",
       "      <th>Year</th>\n",
       "      <th>Sex</th>\n",
       "      <th>Age Group</th>\n",
       "      <th>Age Category</th>\n",
       "      <th>Number</th>\n",
       "      <th>Percent of All Causes</th>\n",
       "      <th>Death Rate</th>\n",
       "    </tr>\n",
       "  </thead>\n",
       "  <tbody>\n",
       "    <tr>\n",
       "      <th>20</th>\n",
       "      <td>Tuberculosis</td>\n",
       "      <td>2020</td>\n",
       "      <td>All</td>\n",
       "      <td>[All]</td>\n",
       "      <td>All Ages</td>\n",
       "      <td>886.0</td>\n",
       "      <td>0.811690</td>\n",
       "      <td>2.737441</td>\n",
       "    </tr>\n",
       "    <tr>\n",
       "      <th>40</th>\n",
       "      <td>STDs excluding HIV</td>\n",
       "      <td>2020</td>\n",
       "      <td>All</td>\n",
       "      <td>[All]</td>\n",
       "      <td>All Ages</td>\n",
       "      <td>16.0</td>\n",
       "      <td>0.014658</td>\n",
       "      <td>0.049435</td>\n",
       "    </tr>\n",
       "    <tr>\n",
       "      <th>60</th>\n",
       "      <td>Syphilis</td>\n",
       "      <td>2020</td>\n",
       "      <td>All</td>\n",
       "      <td>[All]</td>\n",
       "      <td>All Ages</td>\n",
       "      <td>6.0</td>\n",
       "      <td>0.005497</td>\n",
       "      <td>0.018538</td>\n",
       "    </tr>\n",
       "    <tr>\n",
       "      <th>80</th>\n",
       "      <td>Chlamydia</td>\n",
       "      <td>2020</td>\n",
       "      <td>All</td>\n",
       "      <td>[All]</td>\n",
       "      <td>All Ages</td>\n",
       "      <td>0.0</td>\n",
       "      <td>0.000000</td>\n",
       "      <td>0.000000</td>\n",
       "    </tr>\n",
       "    <tr>\n",
       "      <th>100</th>\n",
       "      <td>Gonorrhoea</td>\n",
       "      <td>2020</td>\n",
       "      <td>All</td>\n",
       "      <td>[All]</td>\n",
       "      <td>All Ages</td>\n",
       "      <td>0.0</td>\n",
       "      <td>0.000000</td>\n",
       "      <td>0.000000</td>\n",
       "    </tr>\n",
       "    <tr>\n",
       "      <th>...</th>\n",
       "      <td>...</td>\n",
       "      <td>...</td>\n",
       "      <td>...</td>\n",
       "      <td>...</td>\n",
       "      <td>...</td>\n",
       "      <td>...</td>\n",
       "      <td>...</td>\n",
       "      <td>...</td>\n",
       "    </tr>\n",
       "    <tr>\n",
       "      <th>195180</th>\n",
       "      <td>Ill-defined malignant neoplasms</td>\n",
       "      <td>2000</td>\n",
       "      <td>All</td>\n",
       "      <td>[All]</td>\n",
       "      <td>All Ages</td>\n",
       "      <td>622.0</td>\n",
       "      <td>1.197075</td>\n",
       "      <td>2.681698</td>\n",
       "    </tr>\n",
       "    <tr>\n",
       "      <th>195200</th>\n",
       "      <td>Other malignant neoplasms</td>\n",
       "      <td>2000</td>\n",
       "      <td>All</td>\n",
       "      <td>[All]</td>\n",
       "      <td>All Ages</td>\n",
       "      <td>192.0</td>\n",
       "      <td>0.369515</td>\n",
       "      <td>0.827791</td>\n",
       "    </tr>\n",
       "    <tr>\n",
       "      <th>195220</th>\n",
       "      <td>Ill-defined circulatory diseases</td>\n",
       "      <td>2000</td>\n",
       "      <td>All</td>\n",
       "      <td>[All]</td>\n",
       "      <td>All Ages</td>\n",
       "      <td>3717.0</td>\n",
       "      <td>7.153580</td>\n",
       "      <td>16.025519</td>\n",
       "    </tr>\n",
       "    <tr>\n",
       "      <th>195240</th>\n",
       "      <td>Other circulatory diseases</td>\n",
       "      <td>2000</td>\n",
       "      <td>All</td>\n",
       "      <td>[All]</td>\n",
       "      <td>All Ages</td>\n",
       "      <td>751.0</td>\n",
       "      <td>1.445343</td>\n",
       "      <td>3.237870</td>\n",
       "    </tr>\n",
       "    <tr>\n",
       "      <th>195260</th>\n",
       "      <td>COVID-19</td>\n",
       "      <td>2000</td>\n",
       "      <td>All</td>\n",
       "      <td>[All]</td>\n",
       "      <td>All Ages</td>\n",
       "      <td>0.0</td>\n",
       "      <td>0.000000</td>\n",
       "      <td>0.000000</td>\n",
       "    </tr>\n",
       "  </tbody>\n",
       "</table>\n",
       "<p>3423 rows × 8 columns</p>\n",
       "</div>"
      ],
      "text/plain": [
       "                          Indicator Name  Year  Sex Age Group Age Category  \\\n",
       "20                          Tuberculosis  2020  All     [All]     All Ages   \n",
       "40                    STDs excluding HIV  2020  All     [All]     All Ages   \n",
       "60                              Syphilis  2020  All     [All]     All Ages   \n",
       "80                             Chlamydia  2020  All     [All]     All Ages   \n",
       "100                           Gonorrhoea  2020  All     [All]     All Ages   \n",
       "...                                  ...   ...  ...       ...          ...   \n",
       "195180   Ill-defined malignant neoplasms  2000  All     [All]     All Ages   \n",
       "195200         Other malignant neoplasms  2000  All     [All]     All Ages   \n",
       "195220  Ill-defined circulatory diseases  2000  All     [All]     All Ages   \n",
       "195240        Other circulatory diseases  2000  All     [All]     All Ages   \n",
       "195260                          COVID-19  2000  All     [All]     All Ages   \n",
       "\n",
       "        Number  Percent of All Causes  Death Rate  \n",
       "20       886.0               0.811690    2.737441  \n",
       "40        16.0               0.014658    0.049435  \n",
       "60         6.0               0.005497    0.018538  \n",
       "80         0.0               0.000000    0.000000  \n",
       "100        0.0               0.000000    0.000000  \n",
       "...        ...                    ...         ...  \n",
       "195180   622.0               1.197075    2.681698  \n",
       "195200   192.0               0.369515    0.827791  \n",
       "195220  3717.0               7.153580   16.025519  \n",
       "195240   751.0               1.445343    3.237870  \n",
       "195260     0.0               0.000000    0.000000  \n",
       "\n",
       "[3423 rows x 8 columns]"
      ]
     },
     "execution_count": 48,
     "metadata": {},
     "output_type": "execute_result"
    }
   ],
   "source": [
    "# Keep only Sex and Age Group = All\n",
    "df = df[(df['Sex'] == 'All') & (df['Age Group'] == '[All]')]\n",
    "df"
   ]
  },
  {
   "cell_type": "code",
   "execution_count": 49,
   "id": "873cb23f-e95f-4d04-8719-977940a6053a",
   "metadata": {},
   "outputs": [
    {
     "data": {
      "text/html": [
       "<div>\n",
       "<style scoped>\n",
       "    .dataframe tbody tr th:only-of-type {\n",
       "        vertical-align: middle;\n",
       "    }\n",
       "\n",
       "    .dataframe tbody tr th {\n",
       "        vertical-align: top;\n",
       "    }\n",
       "\n",
       "    .dataframe thead th {\n",
       "        text-align: right;\n",
       "    }\n",
       "</style>\n",
       "<table border=\"1\" class=\"dataframe\">\n",
       "  <thead>\n",
       "    <tr style=\"text-align: right;\">\n",
       "      <th></th>\n",
       "      <th>Indicator Name</th>\n",
       "      <th>Year</th>\n",
       "      <th>Death Rate</th>\n",
       "    </tr>\n",
       "  </thead>\n",
       "  <tbody>\n",
       "    <tr>\n",
       "      <th>0</th>\n",
       "      <td>Abdominal wall defect</td>\n",
       "      <td>2000</td>\n",
       "      <td>0.0</td>\n",
       "    </tr>\n",
       "    <tr>\n",
       "      <th>1</th>\n",
       "      <td>Abdominal wall defect</td>\n",
       "      <td>2001</td>\n",
       "      <td>0.0</td>\n",
       "    </tr>\n",
       "    <tr>\n",
       "      <th>2</th>\n",
       "      <td>Abdominal wall defect</td>\n",
       "      <td>2002</td>\n",
       "      <td>0.0</td>\n",
       "    </tr>\n",
       "    <tr>\n",
       "      <th>3</th>\n",
       "      <td>Abdominal wall defect</td>\n",
       "      <td>2003</td>\n",
       "      <td>0.0</td>\n",
       "    </tr>\n",
       "    <tr>\n",
       "      <th>4</th>\n",
       "      <td>Abdominal wall defect</td>\n",
       "      <td>2004</td>\n",
       "      <td>0.0</td>\n",
       "    </tr>\n",
       "    <tr>\n",
       "      <th>...</th>\n",
       "      <td>...</td>\n",
       "      <td>...</td>\n",
       "      <td>...</td>\n",
       "    </tr>\n",
       "    <tr>\n",
       "      <th>3418</th>\n",
       "      <td>lymphatic filariasis</td>\n",
       "      <td>2016</td>\n",
       "      <td>0.0</td>\n",
       "    </tr>\n",
       "    <tr>\n",
       "      <th>3419</th>\n",
       "      <td>lymphatic filariasis</td>\n",
       "      <td>2017</td>\n",
       "      <td>0.0</td>\n",
       "    </tr>\n",
       "    <tr>\n",
       "      <th>3420</th>\n",
       "      <td>lymphatic filariasis</td>\n",
       "      <td>2018</td>\n",
       "      <td>0.0</td>\n",
       "    </tr>\n",
       "    <tr>\n",
       "      <th>3421</th>\n",
       "      <td>lymphatic filariasis</td>\n",
       "      <td>2019</td>\n",
       "      <td>0.0</td>\n",
       "    </tr>\n",
       "    <tr>\n",
       "      <th>3422</th>\n",
       "      <td>lymphatic filariasis</td>\n",
       "      <td>2020</td>\n",
       "      <td>0.0</td>\n",
       "    </tr>\n",
       "  </tbody>\n",
       "</table>\n",
       "<p>3423 rows × 3 columns</p>\n",
       "</div>"
      ],
      "text/plain": [
       "             Indicator Name  Year  Death Rate\n",
       "0     Abdominal wall defect  2000         0.0\n",
       "1     Abdominal wall defect  2001         0.0\n",
       "2     Abdominal wall defect  2002         0.0\n",
       "3     Abdominal wall defect  2003         0.0\n",
       "4     Abdominal wall defect  2004         0.0\n",
       "...                     ...   ...         ...\n",
       "3418   lymphatic filariasis  2016         0.0\n",
       "3419   lymphatic filariasis  2017         0.0\n",
       "3420   lymphatic filariasis  2018         0.0\n",
       "3421   lymphatic filariasis  2019         0.0\n",
       "3422   lymphatic filariasis  2020         0.0\n",
       "\n",
       "[3423 rows x 3 columns]"
      ]
     },
     "execution_count": 49,
     "metadata": {},
     "output_type": "execute_result"
    }
   ],
   "source": [
    "# Group same indicator name together\n",
    "df = df.groupby(['Indicator Name', 'Year'])['Death Rate'].sum().reset_index()\n",
    "df"
   ]
  },
  {
   "cell_type": "code",
   "execution_count": 50,
   "id": "12e62a85-47f0-450a-aeba-c7d9652a912d",
   "metadata": {},
   "outputs": [
    {
     "name": "stdout",
     "output_type": "stream",
     "text": [
      "2000\n",
      "2020\n"
     ]
    }
   ],
   "source": [
    "# Find earliest and latest years\n",
    "min_year = df['Year'].min()\n",
    "max_year = df['Year'].max()\n",
    "print(min_year)\n",
    "print(max_year)"
   ]
  },
  {
   "cell_type": "code",
   "execution_count": 51,
   "id": "930f4299-07b5-47d9-9e27-7fab4e6748bb",
   "metadata": {},
   "outputs": [
    {
     "data": {
      "text/html": [
       "<div>\n",
       "<style scoped>\n",
       "    .dataframe tbody tr th:only-of-type {\n",
       "        vertical-align: middle;\n",
       "    }\n",
       "\n",
       "    .dataframe tbody tr th {\n",
       "        vertical-align: top;\n",
       "    }\n",
       "\n",
       "    .dataframe thead th {\n",
       "        text-align: right;\n",
       "    }\n",
       "</style>\n",
       "<table border=\"1\" class=\"dataframe\">\n",
       "  <thead>\n",
       "    <tr style=\"text-align: right;\">\n",
       "      <th></th>\n",
       "      <th>Indicator Name</th>\n",
       "      <th>Year</th>\n",
       "      <th>Death Rate</th>\n",
       "    </tr>\n",
       "  </thead>\n",
       "  <tbody>\n",
       "    <tr>\n",
       "      <th>0</th>\n",
       "      <td>Abdominal wall defect</td>\n",
       "      <td>2000</td>\n",
       "      <td>0.000000</td>\n",
       "    </tr>\n",
       "    <tr>\n",
       "      <th>21</th>\n",
       "      <td>Alcohol use disorders</td>\n",
       "      <td>2000</td>\n",
       "      <td>0.107785</td>\n",
       "    </tr>\n",
       "    <tr>\n",
       "      <th>42</th>\n",
       "      <td>Alzheimer and other dementias</td>\n",
       "      <td>2000</td>\n",
       "      <td>0.030180</td>\n",
       "    </tr>\n",
       "    <tr>\n",
       "      <th>63</th>\n",
       "      <td>Anencephaly</td>\n",
       "      <td>2000</td>\n",
       "      <td>0.206948</td>\n",
       "    </tr>\n",
       "    <tr>\n",
       "      <th>84</th>\n",
       "      <td>Anorectal atresia</td>\n",
       "      <td>2000</td>\n",
       "      <td>0.008623</td>\n",
       "    </tr>\n",
       "    <tr>\n",
       "      <th>...</th>\n",
       "      <td>...</td>\n",
       "      <td>...</td>\n",
       "      <td>...</td>\n",
       "    </tr>\n",
       "    <tr>\n",
       "      <th>3318</th>\n",
       "      <td>b. Non-Hodgkin lymphoma</td>\n",
       "      <td>2000</td>\n",
       "      <td>0.944199</td>\n",
       "    </tr>\n",
       "    <tr>\n",
       "      <th>3339</th>\n",
       "      <td>b. Non-melanoma skin cancer</td>\n",
       "      <td>2000</td>\n",
       "      <td>0.086228</td>\n",
       "    </tr>\n",
       "    <tr>\n",
       "      <th>3360</th>\n",
       "      <td>c. Multiple myeloma</td>\n",
       "      <td>2000</td>\n",
       "      <td>0.194014</td>\n",
       "    </tr>\n",
       "    <tr>\n",
       "      <th>3381</th>\n",
       "      <td>c. Other pharynx cancer</td>\n",
       "      <td>2000</td>\n",
       "      <td>0.206948</td>\n",
       "    </tr>\n",
       "    <tr>\n",
       "      <th>3402</th>\n",
       "      <td>lymphatic filariasis</td>\n",
       "      <td>2000</td>\n",
       "      <td>0.000000</td>\n",
       "    </tr>\n",
       "  </tbody>\n",
       "</table>\n",
       "<p>163 rows × 3 columns</p>\n",
       "</div>"
      ],
      "text/plain": [
       "                     Indicator Name  Year  Death Rate\n",
       "0             Abdominal wall defect  2000    0.000000\n",
       "21            Alcohol use disorders  2000    0.107785\n",
       "42    Alzheimer and other dementias  2000    0.030180\n",
       "63                      Anencephaly  2000    0.206948\n",
       "84                Anorectal atresia  2000    0.008623\n",
       "...                             ...   ...         ...\n",
       "3318        b. Non-Hodgkin lymphoma  2000    0.944199\n",
       "3339    b. Non-melanoma skin cancer  2000    0.086228\n",
       "3360            c. Multiple myeloma  2000    0.194014\n",
       "3381        c. Other pharynx cancer  2000    0.206948\n",
       "3402           lymphatic filariasis  2000    0.000000\n",
       "\n",
       "[163 rows x 3 columns]"
      ]
     },
     "execution_count": 51,
     "metadata": {},
     "output_type": "execute_result"
    }
   ],
   "source": [
    "# Filter oldest data\n",
    "start = df[df['Year'] == min_year]\n",
    "start"
   ]
  },
  {
   "cell_type": "code",
   "execution_count": 52,
   "id": "0397689d-d3a8-41e0-9fca-a9e00185779a",
   "metadata": {},
   "outputs": [
    {
     "data": {
      "text/html": [
       "<div>\n",
       "<style scoped>\n",
       "    .dataframe tbody tr th:only-of-type {\n",
       "        vertical-align: middle;\n",
       "    }\n",
       "\n",
       "    .dataframe tbody tr th {\n",
       "        vertical-align: top;\n",
       "    }\n",
       "\n",
       "    .dataframe thead th {\n",
       "        text-align: right;\n",
       "    }\n",
       "</style>\n",
       "<table border=\"1\" class=\"dataframe\">\n",
       "  <thead>\n",
       "    <tr style=\"text-align: right;\">\n",
       "      <th></th>\n",
       "      <th>Indicator Name</th>\n",
       "      <th>Year</th>\n",
       "      <th>Death Rate</th>\n",
       "    </tr>\n",
       "  </thead>\n",
       "  <tbody>\n",
       "    <tr>\n",
       "      <th>20</th>\n",
       "      <td>Abdominal wall defect</td>\n",
       "      <td>2020</td>\n",
       "      <td>0.000000</td>\n",
       "    </tr>\n",
       "    <tr>\n",
       "      <th>41</th>\n",
       "      <td>Alcohol use disorders</td>\n",
       "      <td>2020</td>\n",
       "      <td>0.024717</td>\n",
       "    </tr>\n",
       "    <tr>\n",
       "      <th>62</th>\n",
       "      <td>Alzheimer and other dementias</td>\n",
       "      <td>2020</td>\n",
       "      <td>0.216276</td>\n",
       "    </tr>\n",
       "    <tr>\n",
       "      <th>83</th>\n",
       "      <td>Anencephaly</td>\n",
       "      <td>2020</td>\n",
       "      <td>0.120497</td>\n",
       "    </tr>\n",
       "    <tr>\n",
       "      <th>104</th>\n",
       "      <td>Anorectal atresia</td>\n",
       "      <td>2020</td>\n",
       "      <td>0.000000</td>\n",
       "    </tr>\n",
       "    <tr>\n",
       "      <th>...</th>\n",
       "      <td>...</td>\n",
       "      <td>...</td>\n",
       "      <td>...</td>\n",
       "    </tr>\n",
       "    <tr>\n",
       "      <th>3338</th>\n",
       "      <td>b. Non-Hodgkin lymphoma</td>\n",
       "      <td>2020</td>\n",
       "      <td>1.597355</td>\n",
       "    </tr>\n",
       "    <tr>\n",
       "      <th>3359</th>\n",
       "      <td>b. Non-melanoma skin cancer</td>\n",
       "      <td>2020</td>\n",
       "      <td>0.284249</td>\n",
       "    </tr>\n",
       "    <tr>\n",
       "      <th>3380</th>\n",
       "      <td>c. Multiple myeloma</td>\n",
       "      <td>2020</td>\n",
       "      <td>0.466539</td>\n",
       "    </tr>\n",
       "    <tr>\n",
       "      <th>3401</th>\n",
       "      <td>c. Other pharynx cancer</td>\n",
       "      <td>2020</td>\n",
       "      <td>0.207007</td>\n",
       "    </tr>\n",
       "    <tr>\n",
       "      <th>3422</th>\n",
       "      <td>lymphatic filariasis</td>\n",
       "      <td>2020</td>\n",
       "      <td>0.000000</td>\n",
       "    </tr>\n",
       "  </tbody>\n",
       "</table>\n",
       "<p>163 rows × 3 columns</p>\n",
       "</div>"
      ],
      "text/plain": [
       "                     Indicator Name  Year  Death Rate\n",
       "20            Abdominal wall defect  2020    0.000000\n",
       "41            Alcohol use disorders  2020    0.024717\n",
       "62    Alzheimer and other dementias  2020    0.216276\n",
       "83                      Anencephaly  2020    0.120497\n",
       "104               Anorectal atresia  2020    0.000000\n",
       "...                             ...   ...         ...\n",
       "3338        b. Non-Hodgkin lymphoma  2020    1.597355\n",
       "3359    b. Non-melanoma skin cancer  2020    0.284249\n",
       "3380            c. Multiple myeloma  2020    0.466539\n",
       "3401        c. Other pharynx cancer  2020    0.207007\n",
       "3422           lymphatic filariasis  2020    0.000000\n",
       "\n",
       "[163 rows x 3 columns]"
      ]
     },
     "execution_count": 52,
     "metadata": {},
     "output_type": "execute_result"
    }
   ],
   "source": [
    "# Filter latest data\n",
    "end = df[df['Year'] == max_year]\n",
    "end"
   ]
  },
  {
   "cell_type": "code",
   "execution_count": 53,
   "id": "bc3843b1-7645-4a4d-845e-dd0ddbb69f95",
   "metadata": {},
   "outputs": [
    {
     "data": {
      "text/html": [
       "<div>\n",
       "<style scoped>\n",
       "    .dataframe tbody tr th:only-of-type {\n",
       "        vertical-align: middle;\n",
       "    }\n",
       "\n",
       "    .dataframe tbody tr th {\n",
       "        vertical-align: top;\n",
       "    }\n",
       "\n",
       "    .dataframe thead th {\n",
       "        text-align: right;\n",
       "    }\n",
       "</style>\n",
       "<table border=\"1\" class=\"dataframe\">\n",
       "  <thead>\n",
       "    <tr style=\"text-align: right;\">\n",
       "      <th></th>\n",
       "      <th>Indicator Name</th>\n",
       "      <th>Year_start</th>\n",
       "      <th>Death Rate_start</th>\n",
       "      <th>Year_end</th>\n",
       "      <th>Death Rate_end</th>\n",
       "    </tr>\n",
       "  </thead>\n",
       "  <tbody>\n",
       "    <tr>\n",
       "      <th>0</th>\n",
       "      <td>Abdominal wall defect</td>\n",
       "      <td>2000</td>\n",
       "      <td>0.000000</td>\n",
       "      <td>2020</td>\n",
       "      <td>0.000000</td>\n",
       "    </tr>\n",
       "    <tr>\n",
       "      <th>1</th>\n",
       "      <td>Alcohol use disorders</td>\n",
       "      <td>2000</td>\n",
       "      <td>0.107785</td>\n",
       "      <td>2020</td>\n",
       "      <td>0.024717</td>\n",
       "    </tr>\n",
       "    <tr>\n",
       "      <th>2</th>\n",
       "      <td>Alzheimer and other dementias</td>\n",
       "      <td>2000</td>\n",
       "      <td>0.030180</td>\n",
       "      <td>2020</td>\n",
       "      <td>0.216276</td>\n",
       "    </tr>\n",
       "    <tr>\n",
       "      <th>3</th>\n",
       "      <td>Anencephaly</td>\n",
       "      <td>2000</td>\n",
       "      <td>0.206948</td>\n",
       "      <td>2020</td>\n",
       "      <td>0.120497</td>\n",
       "    </tr>\n",
       "    <tr>\n",
       "      <th>4</th>\n",
       "      <td>Anorectal atresia</td>\n",
       "      <td>2000</td>\n",
       "      <td>0.008623</td>\n",
       "      <td>2020</td>\n",
       "      <td>0.000000</td>\n",
       "    </tr>\n",
       "    <tr>\n",
       "      <th>...</th>\n",
       "      <td>...</td>\n",
       "      <td>...</td>\n",
       "      <td>...</td>\n",
       "      <td>...</td>\n",
       "      <td>...</td>\n",
       "    </tr>\n",
       "    <tr>\n",
       "      <th>158</th>\n",
       "      <td>b. Non-Hodgkin lymphoma</td>\n",
       "      <td>2000</td>\n",
       "      <td>0.944199</td>\n",
       "      <td>2020</td>\n",
       "      <td>1.597355</td>\n",
       "    </tr>\n",
       "    <tr>\n",
       "      <th>159</th>\n",
       "      <td>b. Non-melanoma skin cancer</td>\n",
       "      <td>2000</td>\n",
       "      <td>0.086228</td>\n",
       "      <td>2020</td>\n",
       "      <td>0.284249</td>\n",
       "    </tr>\n",
       "    <tr>\n",
       "      <th>160</th>\n",
       "      <td>c. Multiple myeloma</td>\n",
       "      <td>2000</td>\n",
       "      <td>0.194014</td>\n",
       "      <td>2020</td>\n",
       "      <td>0.466539</td>\n",
       "    </tr>\n",
       "    <tr>\n",
       "      <th>161</th>\n",
       "      <td>c. Other pharynx cancer</td>\n",
       "      <td>2000</td>\n",
       "      <td>0.206948</td>\n",
       "      <td>2020</td>\n",
       "      <td>0.207007</td>\n",
       "    </tr>\n",
       "    <tr>\n",
       "      <th>162</th>\n",
       "      <td>lymphatic filariasis</td>\n",
       "      <td>2000</td>\n",
       "      <td>0.000000</td>\n",
       "      <td>2020</td>\n",
       "      <td>0.000000</td>\n",
       "    </tr>\n",
       "  </tbody>\n",
       "</table>\n",
       "<p>163 rows × 5 columns</p>\n",
       "</div>"
      ],
      "text/plain": [
       "                    Indicator Name  Year_start  Death Rate_start  Year_end  \\\n",
       "0            Abdominal wall defect        2000          0.000000      2020   \n",
       "1            Alcohol use disorders        2000          0.107785      2020   \n",
       "2    Alzheimer and other dementias        2000          0.030180      2020   \n",
       "3                      Anencephaly        2000          0.206948      2020   \n",
       "4                Anorectal atresia        2000          0.008623      2020   \n",
       "..                             ...         ...               ...       ...   \n",
       "158        b. Non-Hodgkin lymphoma        2000          0.944199      2020   \n",
       "159    b. Non-melanoma skin cancer        2000          0.086228      2020   \n",
       "160            c. Multiple myeloma        2000          0.194014      2020   \n",
       "161        c. Other pharynx cancer        2000          0.206948      2020   \n",
       "162           lymphatic filariasis        2000          0.000000      2020   \n",
       "\n",
       "     Death Rate_end  \n",
       "0          0.000000  \n",
       "1          0.024717  \n",
       "2          0.216276  \n",
       "3          0.120497  \n",
       "4          0.000000  \n",
       "..              ...  \n",
       "158        1.597355  \n",
       "159        0.284249  \n",
       "160        0.466539  \n",
       "161        0.207007  \n",
       "162        0.000000  \n",
       "\n",
       "[163 rows x 5 columns]"
      ]
     },
     "execution_count": 53,
     "metadata": {},
     "output_type": "execute_result"
    }
   ],
   "source": [
    "# Merge both years by Indicator\n",
    "merged = pd.merge(start, end, on='Indicator Name', suffixes=('_start', '_end'))\n",
    "merged"
   ]
  },
  {
   "cell_type": "code",
   "execution_count": 54,
   "id": "5c5d28a2-e1b5-4fc2-bc38-57dcf2aedd15",
   "metadata": {},
   "outputs": [
    {
     "data": {
      "text/html": [
       "<div>\n",
       "<style scoped>\n",
       "    .dataframe tbody tr th:only-of-type {\n",
       "        vertical-align: middle;\n",
       "    }\n",
       "\n",
       "    .dataframe tbody tr th {\n",
       "        vertical-align: top;\n",
       "    }\n",
       "\n",
       "    .dataframe thead th {\n",
       "        text-align: right;\n",
       "    }\n",
       "</style>\n",
       "<table border=\"1\" class=\"dataframe\">\n",
       "  <thead>\n",
       "    <tr style=\"text-align: right;\">\n",
       "      <th></th>\n",
       "      <th>Indicator Name</th>\n",
       "      <th>Year_start</th>\n",
       "      <th>Death Rate_start</th>\n",
       "      <th>Year_end</th>\n",
       "      <th>Death Rate_end</th>\n",
       "      <th>Growth_Rate_%</th>\n",
       "    </tr>\n",
       "  </thead>\n",
       "  <tbody>\n",
       "    <tr>\n",
       "      <th>0</th>\n",
       "      <td>Abdominal wall defect</td>\n",
       "      <td>2000</td>\n",
       "      <td>0</td>\n",
       "      <td>2020</td>\n",
       "      <td>0</td>\n",
       "      <td>0.00</td>\n",
       "    </tr>\n",
       "    <tr>\n",
       "      <th>1</th>\n",
       "      <td>Alcohol use disorders</td>\n",
       "      <td>2000</td>\n",
       "      <td>0</td>\n",
       "      <td>2020</td>\n",
       "      <td>0</td>\n",
       "      <td>-77.07</td>\n",
       "    </tr>\n",
       "    <tr>\n",
       "      <th>2</th>\n",
       "      <td>Alzheimer and other dementias</td>\n",
       "      <td>2000</td>\n",
       "      <td>0</td>\n",
       "      <td>2020</td>\n",
       "      <td>0</td>\n",
       "      <td>616.62</td>\n",
       "    </tr>\n",
       "    <tr>\n",
       "      <th>3</th>\n",
       "      <td>Anencephaly</td>\n",
       "      <td>2000</td>\n",
       "      <td>0</td>\n",
       "      <td>2020</td>\n",
       "      <td>0</td>\n",
       "      <td>-41.77</td>\n",
       "    </tr>\n",
       "    <tr>\n",
       "      <th>4</th>\n",
       "      <td>Anorectal atresia</td>\n",
       "      <td>2000</td>\n",
       "      <td>0</td>\n",
       "      <td>2020</td>\n",
       "      <td>0</td>\n",
       "      <td>-100.00</td>\n",
       "    </tr>\n",
       "    <tr>\n",
       "      <th>...</th>\n",
       "      <td>...</td>\n",
       "      <td>...</td>\n",
       "      <td>...</td>\n",
       "      <td>...</td>\n",
       "      <td>...</td>\n",
       "      <td>...</td>\n",
       "    </tr>\n",
       "    <tr>\n",
       "      <th>158</th>\n",
       "      <td>b. Non-Hodgkin lymphoma</td>\n",
       "      <td>2000</td>\n",
       "      <td>0</td>\n",
       "      <td>2020</td>\n",
       "      <td>1</td>\n",
       "      <td>69.18</td>\n",
       "    </tr>\n",
       "    <tr>\n",
       "      <th>159</th>\n",
       "      <td>b. Non-melanoma skin cancer</td>\n",
       "      <td>2000</td>\n",
       "      <td>0</td>\n",
       "      <td>2020</td>\n",
       "      <td>0</td>\n",
       "      <td>229.65</td>\n",
       "    </tr>\n",
       "    <tr>\n",
       "      <th>160</th>\n",
       "      <td>c. Multiple myeloma</td>\n",
       "      <td>2000</td>\n",
       "      <td>0</td>\n",
       "      <td>2020</td>\n",
       "      <td>0</td>\n",
       "      <td>140.47</td>\n",
       "    </tr>\n",
       "    <tr>\n",
       "      <th>161</th>\n",
       "      <td>c. Other pharynx cancer</td>\n",
       "      <td>2000</td>\n",
       "      <td>0</td>\n",
       "      <td>2020</td>\n",
       "      <td>0</td>\n",
       "      <td>0.03</td>\n",
       "    </tr>\n",
       "    <tr>\n",
       "      <th>162</th>\n",
       "      <td>lymphatic filariasis</td>\n",
       "      <td>2000</td>\n",
       "      <td>0</td>\n",
       "      <td>2020</td>\n",
       "      <td>0</td>\n",
       "      <td>0.00</td>\n",
       "    </tr>\n",
       "  </tbody>\n",
       "</table>\n",
       "<p>163 rows × 6 columns</p>\n",
       "</div>"
      ],
      "text/plain": [
       "                    Indicator Name  Year_start  Death Rate_start  Year_end  \\\n",
       "0            Abdominal wall defect        2000                 0      2020   \n",
       "1            Alcohol use disorders        2000                 0      2020   \n",
       "2    Alzheimer and other dementias        2000                 0      2020   \n",
       "3                      Anencephaly        2000                 0      2020   \n",
       "4                Anorectal atresia        2000                 0      2020   \n",
       "..                             ...         ...               ...       ...   \n",
       "158        b. Non-Hodgkin lymphoma        2000                 0      2020   \n",
       "159    b. Non-melanoma skin cancer        2000                 0      2020   \n",
       "160            c. Multiple myeloma        2000                 0      2020   \n",
       "161        c. Other pharynx cancer        2000                 0      2020   \n",
       "162           lymphatic filariasis        2000                 0      2020   \n",
       "\n",
       "     Death Rate_end  Growth_Rate_%  \n",
       "0                 0           0.00  \n",
       "1                 0         -77.07  \n",
       "2                 0         616.62  \n",
       "3                 0         -41.77  \n",
       "4                 0        -100.00  \n",
       "..              ...            ...  \n",
       "158               1          69.18  \n",
       "159               0         229.65  \n",
       "160               0         140.47  \n",
       "161               0           0.03  \n",
       "162               0           0.00  \n",
       "\n",
       "[163 rows x 6 columns]"
      ]
     },
     "execution_count": 54,
     "metadata": {},
     "output_type": "execute_result"
    }
   ],
   "source": [
    "# Calculate percentage growth, protect from division by zero\n",
    "merged['Growth_Rate_%'] = ((merged['Death Rate_end'] - merged['Death Rate_start']) / \n",
    "                           merged['Death Rate_start'].replace(0, 1)) * 100\n",
    "\n",
    "# Round and convert for better formatting\n",
    "merged['Death Rate_start'] = merged['Death Rate_start'].astype(int)\n",
    "merged['Death Rate_end'] = merged['Death Rate_end'].astype(int)\n",
    "merged['Growth_Rate_%'] = merged['Growth_Rate_%'].round(2)\n",
    "\n",
    "# Final full table\n",
    "merged"
   ]
  },
  {
   "cell_type": "code",
   "execution_count": 55,
   "id": "579e98d2-9f58-4852-a2db-9c9d4ab8a240",
   "metadata": {},
   "outputs": [
    {
     "data": {
      "text/html": [
       "<div>\n",
       "<style scoped>\n",
       "    .dataframe tbody tr th:only-of-type {\n",
       "        vertical-align: middle;\n",
       "    }\n",
       "\n",
       "    .dataframe tbody tr th {\n",
       "        vertical-align: top;\n",
       "    }\n",
       "\n",
       "    .dataframe thead th {\n",
       "        text-align: right;\n",
       "    }\n",
       "</style>\n",
       "<table border=\"1\" class=\"dataframe\">\n",
       "  <thead>\n",
       "    <tr style=\"text-align: right;\">\n",
       "      <th></th>\n",
       "      <th>Indicator Name</th>\n",
       "      <th>Year_start</th>\n",
       "      <th>Death Rate_start</th>\n",
       "      <th>Year_end</th>\n",
       "      <th>Death Rate_end</th>\n",
       "      <th>Growth_Rate_%</th>\n",
       "    </tr>\n",
       "  </thead>\n",
       "  <tbody>\n",
       "    <tr>\n",
       "      <th>58</th>\n",
       "      <td>Inflammatory bowel disease</td>\n",
       "      <td>2000</td>\n",
       "      <td>0</td>\n",
       "      <td>2020</td>\n",
       "      <td>0</td>\n",
       "      <td>1440.74</td>\n",
       "    </tr>\n",
       "    <tr>\n",
       "      <th>55</th>\n",
       "      <td>Hypertensive heart disease</td>\n",
       "      <td>2000</td>\n",
       "      <td>0</td>\n",
       "      <td>2020</td>\n",
       "      <td>2</td>\n",
       "      <td>1227.46</td>\n",
       "    </tr>\n",
       "    <tr>\n",
       "      <th>98</th>\n",
       "      <td>Other genitourinary system diseases</td>\n",
       "      <td>2000</td>\n",
       "      <td>0</td>\n",
       "      <td>2020</td>\n",
       "      <td>4</td>\n",
       "      <td>987.13</td>\n",
       "    </tr>\n",
       "    <tr>\n",
       "      <th>82</th>\n",
       "      <td>Mesothelioma</td>\n",
       "      <td>2000</td>\n",
       "      <td>0</td>\n",
       "      <td>2020</td>\n",
       "      <td>0</td>\n",
       "      <td>903.27</td>\n",
       "    </tr>\n",
       "    <tr>\n",
       "      <th>149</th>\n",
       "      <td>Upper respiratory infections</td>\n",
       "      <td>2000</td>\n",
       "      <td>0</td>\n",
       "      <td>2020</td>\n",
       "      <td>0</td>\n",
       "      <td>688.29</td>\n",
       "    </tr>\n",
       "  </tbody>\n",
       "</table>\n",
       "</div>"
      ],
      "text/plain": [
       "                          Indicator Name  Year_start  Death Rate_start  \\\n",
       "58            Inflammatory bowel disease        2000                 0   \n",
       "55            Hypertensive heart disease        2000                 0   \n",
       "98   Other genitourinary system diseases        2000                 0   \n",
       "82                          Mesothelioma        2000                 0   \n",
       "149         Upper respiratory infections        2000                 0   \n",
       "\n",
       "     Year_end  Death Rate_end  Growth_Rate_%  \n",
       "58       2020               0        1440.74  \n",
       "55       2020               2        1227.46  \n",
       "98       2020               4         987.13  \n",
       "82       2020               0         903.27  \n",
       "149      2020               0         688.29  "
      ]
     },
     "execution_count": 55,
     "metadata": {},
     "output_type": "execute_result"
    }
   ],
   "source": [
    "# Sort the table by growth rate descending and select top 5\n",
    "top5_growth = merged.sort_values(by='Growth_Rate_%', ascending=False).head(5)\n",
    "top5_growth"
   ]
  },
  {
   "cell_type": "code",
   "execution_count": 56,
   "id": "d1c49e8a-411a-4936-ba56-38b604abb1b5",
   "metadata": {},
   "outputs": [
    {
     "data": {
      "image/png": "[encoded data removed]",
      "text/plain": [
       "<Figure size 1000x600 with 1 Axes>"
      ]
     },
     "metadata": {},
     "output_type": "display_data"
    }
   ],
   "source": [
    "# Plot with x as hue and no legend\n",
    "plt.figure(figsize=(10, 6))\n",
    "sns.barplot(data=top5_growth, x='Indicator Name', y='Growth_Rate_%',\n",
    "            hue='Indicator Name', palette='viridis', legend=False)\n",
    "\n",
    "# Add labels and title\n",
    "plt.title('Top 5 Causes by Growth Rate of Death Rate (%)', fontsize=14)\n",
    "plt.ylabel('Growth Rate of Death Rate (%)')\n",
    "plt.xlabel('Cause (Indicator Name)')\n",
    "plt.xticks(rotation=45)\n",
    "plt.tight_layout()\n",
    "\n",
    "# Show the plot\n",
    "plt.show()"
   ]
  },
  {
   "cell_type": "markdown",
   "id": "7edd3f92-1943-40ec-8d3e-f7d28a4b6542",
   "metadata": {},
   "source": [
    "# Correlation between the Top 5 Growth of Death Rate Causes"
   ]
  },
  {
   "cell_type": "code",
   "execution_count": 57,
   "id": "0eb7ca42-7b70-44ac-959b-b211f4582d71",
   "metadata": {},
   "outputs": [
    {
     "name": "stdout",
     "output_type": "stream",
     "text": [
      "['Inflammatory bowel disease', 'Hypertensive heart disease', 'Other genitourinary system diseases', 'Mesothelioma', 'Upper respiratory infections']\n"
     ]
    }
   ],
   "source": [
    "# Get top 5 cause names\n",
    "top5_causes = top5_growth['Indicator Name'].tolist()\n",
    "print(top5_causes)"
   ]
  },
  {
   "cell_type": "code",
   "execution_count": 58,
   "id": "af7b31b3-7934-49fc-b289-7399ee4d160f",
   "metadata": {},
   "outputs": [
    {
     "data": {
      "text/html": [
       "<div>\n",
       "<style scoped>\n",
       "    .dataframe tbody tr th:only-of-type {\n",
       "        vertical-align: middle;\n",
       "    }\n",
       "\n",
       "    .dataframe tbody tr th {\n",
       "        vertical-align: top;\n",
       "    }\n",
       "\n",
       "    .dataframe thead th {\n",
       "        text-align: right;\n",
       "    }\n",
       "</style>\n",
       "<table border=\"1\" class=\"dataframe\">\n",
       "  <thead>\n",
       "    <tr style=\"text-align: right;\">\n",
       "      <th></th>\n",
       "      <th>Indicator Name</th>\n",
       "      <th>Year</th>\n",
       "      <th>Sex</th>\n",
       "      <th>Age Group</th>\n",
       "      <th>Age Category</th>\n",
       "      <th>Number</th>\n",
       "      <th>Percent of All Causes</th>\n",
       "      <th>Death Rate</th>\n",
       "    </tr>\n",
       "  </thead>\n",
       "  <tbody>\n",
       "    <tr>\n",
       "      <th>0</th>\n",
       "      <td>All Causes</td>\n",
       "      <td>2020</td>\n",
       "      <td>All</td>\n",
       "      <td>[All]</td>\n",
       "      <td>All Ages</td>\n",
       "      <td>109155.0</td>\n",
       "      <td>100.0</td>\n",
       "      <td>337.252065</td>\n",
       "    </tr>\n",
       "    <tr>\n",
       "      <th>1</th>\n",
       "      <td>All Causes</td>\n",
       "      <td>2020</td>\n",
       "      <td>All</td>\n",
       "      <td>[0]</td>\n",
       "      <td>Infant</td>\n",
       "      <td>2367.0</td>\n",
       "      <td>100.0</td>\n",
       "      <td>444.185060</td>\n",
       "    </tr>\n",
       "    <tr>\n",
       "      <th>2</th>\n",
       "      <td>All Causes</td>\n",
       "      <td>2020</td>\n",
       "      <td>All</td>\n",
       "      <td>[1-4]</td>\n",
       "      <td>Toddler</td>\n",
       "      <td>410.0</td>\n",
       "      <td>100.0</td>\n",
       "      <td>19.503136</td>\n",
       "    </tr>\n",
       "    <tr>\n",
       "      <th>3</th>\n",
       "      <td>All Causes</td>\n",
       "      <td>2020</td>\n",
       "      <td>All</td>\n",
       "      <td>[5-9]</td>\n",
       "      <td>Child</td>\n",
       "      <td>294.0</td>\n",
       "      <td>100.0</td>\n",
       "      <td>11.722119</td>\n",
       "    </tr>\n",
       "    <tr>\n",
       "      <th>4</th>\n",
       "      <td>All Causes</td>\n",
       "      <td>2020</td>\n",
       "      <td>All</td>\n",
       "      <td>[10-14]</td>\n",
       "      <td>Child</td>\n",
       "      <td>402.0</td>\n",
       "      <td>100.0</td>\n",
       "      <td>16.434815</td>\n",
       "    </tr>\n",
       "    <tr>\n",
       "      <th>...</th>\n",
       "      <td>...</td>\n",
       "      <td>...</td>\n",
       "      <td>...</td>\n",
       "      <td>...</td>\n",
       "      <td>...</td>\n",
       "      <td>...</td>\n",
       "      <td>...</td>\n",
       "      <td>...</td>\n",
       "    </tr>\n",
       "    <tr>\n",
       "      <th>201595</th>\n",
       "      <td>COVID-19</td>\n",
       "      <td>2000</td>\n",
       "      <td>Female</td>\n",
       "      <td>[65-69]</td>\n",
       "      <td>Senior</td>\n",
       "      <td>0.0</td>\n",
       "      <td>0.0</td>\n",
       "      <td>0.000000</td>\n",
       "    </tr>\n",
       "    <tr>\n",
       "      <th>201596</th>\n",
       "      <td>COVID-19</td>\n",
       "      <td>2000</td>\n",
       "      <td>Female</td>\n",
       "      <td>[70-74]</td>\n",
       "      <td>Senior</td>\n",
       "      <td>0.0</td>\n",
       "      <td>0.0</td>\n",
       "      <td>0.000000</td>\n",
       "    </tr>\n",
       "    <tr>\n",
       "      <th>201597</th>\n",
       "      <td>COVID-19</td>\n",
       "      <td>2000</td>\n",
       "      <td>Female</td>\n",
       "      <td>[75-79]</td>\n",
       "      <td>Senior</td>\n",
       "      <td>0.0</td>\n",
       "      <td>0.0</td>\n",
       "      <td>0.000000</td>\n",
       "    </tr>\n",
       "    <tr>\n",
       "      <th>201598</th>\n",
       "      <td>COVID-19</td>\n",
       "      <td>2000</td>\n",
       "      <td>Female</td>\n",
       "      <td>[80-84]</td>\n",
       "      <td>Elderly</td>\n",
       "      <td>0.0</td>\n",
       "      <td>0.0</td>\n",
       "      <td>0.000000</td>\n",
       "    </tr>\n",
       "    <tr>\n",
       "      <th>201599</th>\n",
       "      <td>COVID-19</td>\n",
       "      <td>2000</td>\n",
       "      <td>Female</td>\n",
       "      <td>[85+]</td>\n",
       "      <td>Elderly</td>\n",
       "      <td>0.0</td>\n",
       "      <td>0.0</td>\n",
       "      <td>0.000000</td>\n",
       "    </tr>\n",
       "  </tbody>\n",
       "</table>\n",
       "<p>201600 rows × 8 columns</p>\n",
       "</div>"
      ],
      "text/plain": [
       "       Indicator Name  Year     Sex Age Group Age Category    Number  \\\n",
       "0          All Causes  2020     All     [All]     All Ages  109155.0   \n",
       "1          All Causes  2020     All       [0]       Infant    2367.0   \n",
       "2          All Causes  2020     All     [1-4]      Toddler     410.0   \n",
       "3          All Causes  2020     All     [5-9]        Child     294.0   \n",
       "4          All Causes  2020     All   [10-14]        Child     402.0   \n",
       "...               ...   ...     ...       ...          ...       ...   \n",
       "201595       COVID-19  2000  Female   [65-69]       Senior       0.0   \n",
       "201596       COVID-19  2000  Female   [70-74]       Senior       0.0   \n",
       "201597       COVID-19  2000  Female   [75-79]       Senior       0.0   \n",
       "201598       COVID-19  2000  Female   [80-84]      Elderly       0.0   \n",
       "201599       COVID-19  2000  Female     [85+]      Elderly       0.0   \n",
       "\n",
       "        Percent of All Causes  Death Rate  \n",
       "0                       100.0  337.252065  \n",
       "1                       100.0  444.185060  \n",
       "2                       100.0   19.503136  \n",
       "3                       100.0   11.722119  \n",
       "4                       100.0   16.434815  \n",
       "...                       ...         ...  \n",
       "201595                    0.0    0.000000  \n",
       "201596                    0.0    0.000000  \n",
       "201597                    0.0    0.000000  \n",
       "201598                    0.0    0.000000  \n",
       "201599                    0.0    0.000000  \n",
       "\n",
       "[201600 rows x 8 columns]"
      ]
     },
     "execution_count": 58,
     "metadata": {},
     "output_type": "execute_result"
    }
   ],
   "source": [
    "# Load unfiltered file\n",
    "df_unfiltered = pd.read_csv(\"../dataset/clean_data.csv\")\n",
    "df_unfiltered"
   ]
  },
  {
   "cell_type": "code",
   "execution_count": 59,
   "id": "6f27bcdd-999f-4773-8587-d1df6127e611",
   "metadata": {},
   "outputs": [
    {
     "data": {
      "text/html": [
       "<div>\n",
       "<style scoped>\n",
       "    .dataframe tbody tr th:only-of-type {\n",
       "        vertical-align: middle;\n",
       "    }\n",
       "\n",
       "    .dataframe tbody tr th {\n",
       "        vertical-align: top;\n",
       "    }\n",
       "\n",
       "    .dataframe thead th {\n",
       "        text-align: right;\n",
       "    }\n",
       "</style>\n",
       "<table border=\"1\" class=\"dataframe\">\n",
       "  <thead>\n",
       "    <tr style=\"text-align: right;\">\n",
       "      <th></th>\n",
       "      <th>Indicator Name</th>\n",
       "      <th>Year</th>\n",
       "      <th>Sex</th>\n",
       "      <th>Age Group</th>\n",
       "      <th>Age Category</th>\n",
       "      <th>Number</th>\n",
       "      <th>Percent of All Causes</th>\n",
       "      <th>Death Rate</th>\n",
       "    </tr>\n",
       "  </thead>\n",
       "  <tbody>\n",
       "    <tr>\n",
       "      <th>740</th>\n",
       "      <td>Upper respiratory infections</td>\n",
       "      <td>2020</td>\n",
       "      <td>All</td>\n",
       "      <td>[All]</td>\n",
       "      <td>All Ages</td>\n",
       "      <td>11.0</td>\n",
       "      <td>0.010077</td>\n",
       "      <td>0.033986</td>\n",
       "    </tr>\n",
       "    <tr>\n",
       "      <th>1520</th>\n",
       "      <td>Mesothelioma</td>\n",
       "      <td>2020</td>\n",
       "      <td>All</td>\n",
       "      <td>[All]</td>\n",
       "      <td>All Ages</td>\n",
       "      <td>14.0</td>\n",
       "      <td>0.012826</td>\n",
       "      <td>0.043255</td>\n",
       "    </tr>\n",
       "    <tr>\n",
       "      <th>2120</th>\n",
       "      <td>Hypertensive heart disease</td>\n",
       "      <td>2020</td>\n",
       "      <td>All</td>\n",
       "      <td>[All]</td>\n",
       "      <td>All Ages</td>\n",
       "      <td>778.0</td>\n",
       "      <td>0.712748</td>\n",
       "      <td>2.403757</td>\n",
       "    </tr>\n",
       "    <tr>\n",
       "      <th>2380</th>\n",
       "      <td>Inflammatory bowel disease</td>\n",
       "      <td>2020</td>\n",
       "      <td>All</td>\n",
       "      <td>[All]</td>\n",
       "      <td>All Ages</td>\n",
       "      <td>86.0</td>\n",
       "      <td>0.078787</td>\n",
       "      <td>0.265711</td>\n",
       "    </tr>\n",
       "    <tr>\n",
       "      <th>2500</th>\n",
       "      <td>Other genitourinary system diseases</td>\n",
       "      <td>2020</td>\n",
       "      <td>All</td>\n",
       "      <td>[All]</td>\n",
       "      <td>All Ages</td>\n",
       "      <td>1426.0</td>\n",
       "      <td>1.306399</td>\n",
       "      <td>4.405858</td>\n",
       "    </tr>\n",
       "    <tr>\n",
       "      <th>...</th>\n",
       "      <td>...</td>\n",
       "      <td>...</td>\n",
       "      <td>...</td>\n",
       "      <td>...</td>\n",
       "      <td>...</td>\n",
       "      <td>...</td>\n",
       "      <td>...</td>\n",
       "      <td>...</td>\n",
       "    </tr>\n",
       "    <tr>\n",
       "      <th>192740</th>\n",
       "      <td>Upper respiratory infections</td>\n",
       "      <td>2000</td>\n",
       "      <td>All</td>\n",
       "      <td>[All]</td>\n",
       "      <td>All Ages</td>\n",
       "      <td>1.0</td>\n",
       "      <td>0.001925</td>\n",
       "      <td>0.004311</td>\n",
       "    </tr>\n",
       "    <tr>\n",
       "      <th>193560</th>\n",
       "      <td>Mesothelioma</td>\n",
       "      <td>2000</td>\n",
       "      <td>All</td>\n",
       "      <td>[All]</td>\n",
       "      <td>All Ages</td>\n",
       "      <td>1.0</td>\n",
       "      <td>0.001925</td>\n",
       "      <td>0.004311</td>\n",
       "    </tr>\n",
       "    <tr>\n",
       "      <th>194160</th>\n",
       "      <td>Hypertensive heart disease</td>\n",
       "      <td>2000</td>\n",
       "      <td>All</td>\n",
       "      <td>[All]</td>\n",
       "      <td>All Ages</td>\n",
       "      <td>42.0</td>\n",
       "      <td>0.080831</td>\n",
       "      <td>0.181079</td>\n",
       "    </tr>\n",
       "    <tr>\n",
       "      <th>194400</th>\n",
       "      <td>Inflammatory bowel disease</td>\n",
       "      <td>2000</td>\n",
       "      <td>All</td>\n",
       "      <td>[All]</td>\n",
       "      <td>All Ages</td>\n",
       "      <td>4.0</td>\n",
       "      <td>0.007698</td>\n",
       "      <td>0.017246</td>\n",
       "    </tr>\n",
       "    <tr>\n",
       "      <th>194520</th>\n",
       "      <td>Other genitourinary system diseases</td>\n",
       "      <td>2000</td>\n",
       "      <td>All</td>\n",
       "      <td>[All]</td>\n",
       "      <td>All Ages</td>\n",
       "      <td>94.0</td>\n",
       "      <td>0.180908</td>\n",
       "      <td>0.405273</td>\n",
       "    </tr>\n",
       "  </tbody>\n",
       "</table>\n",
       "<p>105 rows × 8 columns</p>\n",
       "</div>"
      ],
      "text/plain": [
       "                             Indicator Name  Year  Sex Age Group Age Category  \\\n",
       "740            Upper respiratory infections  2020  All     [All]     All Ages   \n",
       "1520                           Mesothelioma  2020  All     [All]     All Ages   \n",
       "2120             Hypertensive heart disease  2020  All     [All]     All Ages   \n",
       "2380             Inflammatory bowel disease  2020  All     [All]     All Ages   \n",
       "2500    Other genitourinary system diseases  2020  All     [All]     All Ages   \n",
       "...                                     ...   ...  ...       ...          ...   \n",
       "192740         Upper respiratory infections  2000  All     [All]     All Ages   \n",
       "193560                         Mesothelioma  2000  All     [All]     All Ages   \n",
       "194160           Hypertensive heart disease  2000  All     [All]     All Ages   \n",
       "194400           Inflammatory bowel disease  2000  All     [All]     All Ages   \n",
       "194520  Other genitourinary system diseases  2000  All     [All]     All Ages   \n",
       "\n",
       "        Number  Percent of All Causes  Death Rate  \n",
       "740       11.0               0.010077    0.033986  \n",
       "1520      14.0               0.012826    0.043255  \n",
       "2120     778.0               0.712748    2.403757  \n",
       "2380      86.0               0.078787    0.265711  \n",
       "2500    1426.0               1.306399    4.405858  \n",
       "...        ...                    ...         ...  \n",
       "192740     1.0               0.001925    0.004311  \n",
       "193560     1.0               0.001925    0.004311  \n",
       "194160    42.0               0.080831    0.181079  \n",
       "194400     4.0               0.007698    0.017246  \n",
       "194520    94.0               0.180908    0.405273  \n",
       "\n",
       "[105 rows x 8 columns]"
      ]
     },
     "execution_count": 59,
     "metadata": {},
     "output_type": "execute_result"
    }
   ],
   "source": [
    "# Filter for top 5 causes + All Sex + All Age Group\n",
    "df_top5 = df_unfiltered[\n",
    "    (df_unfiltered['Indicator Name'].isin(top5_causes)) &\n",
    "    (df_unfiltered['Sex'] == 'All') &\n",
    "    (df_unfiltered['Age Group'] == '[All]')\n",
    "]\n",
    "df_top5"
   ]
  },
  {
   "cell_type": "code",
   "execution_count": 60,
   "id": "65f3676a-9a7c-4dda-9396-3f40d51eec77",
   "metadata": {},
   "outputs": [
    {
     "data": {
      "image/png": "[encoded data removed]",
      "text/plain": [
       "<Figure size 800x600 with 2 Axes>"
      ]
     },
     "metadata": {},
     "output_type": "display_data"
    }
   ],
   "source": [
    "# Pivot table — rows = year, columns = cause, values = death rate\n",
    "pivot_df = df_top5.pivot_table(\n",
    "    index='Year',\n",
    "    columns='Indicator Name',\n",
    "    values='Death Rate'\n",
    ")\n",
    "\n",
    "# Calculate correlation between the 5 causes' trends\n",
    "corr_matrix = pivot_df.corr()\n",
    "\n",
    "# Visualize as heatmap\n",
    "plt.figure(figsize=(8, 6))\n",
    "sns.heatmap(corr_matrix, annot=True, cmap='coolwarm', vmin=-1, vmax=1)\n",
    "plt.title(\"Correlation of Death Rate Trends Between Top 5 Causes\")\n",
    "plt.tight_layout()\n",
    "plt.show()"
   ]
  },
  {
   "cell_type": "markdown",
   "id": "81520160-54ac-4717-b9f8-8daa7f5b3a97",
   "metadata": {},
   "source": [
    "# Distribution of Top 5 Causes by Age and Gender"
   ]
  },
  {
   "cell_type": "code",
   "execution_count": 61,
   "id": "c7175f20-4cef-45eb-b7c3-d908910b9978",
   "metadata": {},
   "outputs": [
    {
     "data": {
      "text/html": [
       "<div>\n",
       "<style scoped>\n",
       "    .dataframe tbody tr th:only-of-type {\n",
       "        vertical-align: middle;\n",
       "    }\n",
       "\n",
       "    .dataframe tbody tr th {\n",
       "        vertical-align: top;\n",
       "    }\n",
       "\n",
       "    .dataframe thead th {\n",
       "        text-align: right;\n",
       "    }\n",
       "</style>\n",
       "<table border=\"1\" class=\"dataframe\">\n",
       "  <thead>\n",
       "    <tr style=\"text-align: right;\">\n",
       "      <th></th>\n",
       "      <th>Indicator Name</th>\n",
       "      <th>Year</th>\n",
       "      <th>Sex</th>\n",
       "      <th>Age Group</th>\n",
       "      <th>Age Category</th>\n",
       "      <th>Number</th>\n",
       "      <th>Percent of All Causes</th>\n",
       "      <th>Death Rate</th>\n",
       "    </tr>\n",
       "  </thead>\n",
       "  <tbody>\n",
       "    <tr>\n",
       "      <th>740</th>\n",
       "      <td>Upper respiratory infections</td>\n",
       "      <td>2020</td>\n",
       "      <td>All</td>\n",
       "      <td>[All]</td>\n",
       "      <td>All Ages</td>\n",
       "      <td>11.0</td>\n",
       "      <td>0.010077</td>\n",
       "      <td>0.033986</td>\n",
       "    </tr>\n",
       "    <tr>\n",
       "      <th>741</th>\n",
       "      <td>Upper respiratory infections</td>\n",
       "      <td>2020</td>\n",
       "      <td>All</td>\n",
       "      <td>[0]</td>\n",
       "      <td>Infant</td>\n",
       "      <td>0.0</td>\n",
       "      <td>0.000000</td>\n",
       "      <td>0.000000</td>\n",
       "    </tr>\n",
       "    <tr>\n",
       "      <th>742</th>\n",
       "      <td>Upper respiratory infections</td>\n",
       "      <td>2020</td>\n",
       "      <td>All</td>\n",
       "      <td>[1-4]</td>\n",
       "      <td>Toddler</td>\n",
       "      <td>0.0</td>\n",
       "      <td>0.000000</td>\n",
       "      <td>0.000000</td>\n",
       "    </tr>\n",
       "    <tr>\n",
       "      <th>743</th>\n",
       "      <td>Upper respiratory infections</td>\n",
       "      <td>2020</td>\n",
       "      <td>All</td>\n",
       "      <td>[5-9]</td>\n",
       "      <td>Child</td>\n",
       "      <td>0.0</td>\n",
       "      <td>0.000000</td>\n",
       "      <td>0.000000</td>\n",
       "    </tr>\n",
       "    <tr>\n",
       "      <th>744</th>\n",
       "      <td>Upper respiratory infections</td>\n",
       "      <td>2020</td>\n",
       "      <td>All</td>\n",
       "      <td>[10-14]</td>\n",
       "      <td>Child</td>\n",
       "      <td>0.0</td>\n",
       "      <td>0.000000</td>\n",
       "      <td>0.000000</td>\n",
       "    </tr>\n",
       "    <tr>\n",
       "      <th>...</th>\n",
       "      <td>...</td>\n",
       "      <td>...</td>\n",
       "      <td>...</td>\n",
       "      <td>...</td>\n",
       "      <td>...</td>\n",
       "      <td>...</td>\n",
       "      <td>...</td>\n",
       "      <td>...</td>\n",
       "    </tr>\n",
       "    <tr>\n",
       "      <th>200855</th>\n",
       "      <td>Other genitourinary system diseases</td>\n",
       "      <td>2000</td>\n",
       "      <td>Female</td>\n",
       "      <td>[65-69]</td>\n",
       "      <td>Senior</td>\n",
       "      <td>4.0</td>\n",
       "      <td>0.189394</td>\n",
       "      <td>2.118150</td>\n",
       "    </tr>\n",
       "    <tr>\n",
       "      <th>200856</th>\n",
       "      <td>Other genitourinary system diseases</td>\n",
       "      <td>2000</td>\n",
       "      <td>Female</td>\n",
       "      <td>[70-74]</td>\n",
       "      <td>Senior</td>\n",
       "      <td>2.0</td>\n",
       "      <td>0.098425</td>\n",
       "      <td>1.476592</td>\n",
       "    </tr>\n",
       "    <tr>\n",
       "      <th>200857</th>\n",
       "      <td>Other genitourinary system diseases</td>\n",
       "      <td>2000</td>\n",
       "      <td>Female</td>\n",
       "      <td>[75-79]</td>\n",
       "      <td>Senior</td>\n",
       "      <td>2.0</td>\n",
       "      <td>0.116279</td>\n",
       "      <td>2.399088</td>\n",
       "    </tr>\n",
       "    <tr>\n",
       "      <th>200858</th>\n",
       "      <td>Other genitourinary system diseases</td>\n",
       "      <td>2000</td>\n",
       "      <td>Female</td>\n",
       "      <td>[80-84]</td>\n",
       "      <td>Elderly</td>\n",
       "      <td>7.0</td>\n",
       "      <td>0.527903</td>\n",
       "      <td>15.707041</td>\n",
       "    </tr>\n",
       "    <tr>\n",
       "      <th>200859</th>\n",
       "      <td>Other genitourinary system diseases</td>\n",
       "      <td>2000</td>\n",
       "      <td>Female</td>\n",
       "      <td>[85+]</td>\n",
       "      <td>Elderly</td>\n",
       "      <td>6.0</td>\n",
       "      <td>0.436681</td>\n",
       "      <td>31.162356</td>\n",
       "    </tr>\n",
       "  </tbody>\n",
       "</table>\n",
       "<p>6300 rows × 8 columns</p>\n",
       "</div>"
      ],
      "text/plain": [
       "                             Indicator Name  Year     Sex Age Group  \\\n",
       "740            Upper respiratory infections  2020     All     [All]   \n",
       "741            Upper respiratory infections  2020     All       [0]   \n",
       "742            Upper respiratory infections  2020     All     [1-4]   \n",
       "743            Upper respiratory infections  2020     All     [5-9]   \n",
       "744            Upper respiratory infections  2020     All   [10-14]   \n",
       "...                                     ...   ...     ...       ...   \n",
       "200855  Other genitourinary system diseases  2000  Female   [65-69]   \n",
       "200856  Other genitourinary system diseases  2000  Female   [70-74]   \n",
       "200857  Other genitourinary system diseases  2000  Female   [75-79]   \n",
       "200858  Other genitourinary system diseases  2000  Female   [80-84]   \n",
       "200859  Other genitourinary system diseases  2000  Female     [85+]   \n",
       "\n",
       "       Age Category  Number  Percent of All Causes  Death Rate  \n",
       "740        All Ages    11.0               0.010077    0.033986  \n",
       "741          Infant     0.0               0.000000    0.000000  \n",
       "742         Toddler     0.0               0.000000    0.000000  \n",
       "743           Child     0.0               0.000000    0.000000  \n",
       "744           Child     0.0               0.000000    0.000000  \n",
       "...             ...     ...                    ...         ...  \n",
       "200855       Senior     4.0               0.189394    2.118150  \n",
       "200856       Senior     2.0               0.098425    1.476592  \n",
       "200857       Senior     2.0               0.116279    2.399088  \n",
       "200858      Elderly     7.0               0.527903   15.707041  \n",
       "200859      Elderly     6.0               0.436681   31.162356  \n",
       "\n",
       "[6300 rows x 8 columns]"
      ]
     },
     "execution_count": 61,
     "metadata": {},
     "output_type": "execute_result"
    }
   ],
   "source": [
    "# Now filter top 5 causes with all column\n",
    "df_top5_dist = df_unfiltered[df_unfiltered['Indicator Name'].isin(top5_causes)]\n",
    "df_top5_dist"
   ]
  },
  {
   "cell_type": "code",
   "execution_count": 62,
   "id": "bcfc9913-d9fe-4920-a12f-0734a645b0b8",
   "metadata": {},
   "outputs": [
    {
     "data": {
      "text/html": [
       "<div>\n",
       "<style scoped>\n",
       "    .dataframe tbody tr th:only-of-type {\n",
       "        vertical-align: middle;\n",
       "    }\n",
       "\n",
       "    .dataframe tbody tr th {\n",
       "        vertical-align: top;\n",
       "    }\n",
       "\n",
       "    .dataframe thead th {\n",
       "        text-align: right;\n",
       "    }\n",
       "</style>\n",
       "<table border=\"1\" class=\"dataframe\">\n",
       "  <thead>\n",
       "    <tr style=\"text-align: right;\">\n",
       "      <th></th>\n",
       "      <th>Indicator Name</th>\n",
       "      <th>Age Category</th>\n",
       "      <th>Sex</th>\n",
       "      <th>Number</th>\n",
       "    </tr>\n",
       "  </thead>\n",
       "  <tbody>\n",
       "    <tr>\n",
       "      <th>0</th>\n",
       "      <td>Hypertensive heart disease</td>\n",
       "      <td>Adult</td>\n",
       "      <td>All</td>\n",
       "      <td>364.0</td>\n",
       "    </tr>\n",
       "    <tr>\n",
       "      <th>1</th>\n",
       "      <td>Hypertensive heart disease</td>\n",
       "      <td>Adult</td>\n",
       "      <td>Female</td>\n",
       "      <td>80.0</td>\n",
       "    </tr>\n",
       "    <tr>\n",
       "      <th>2</th>\n",
       "      <td>Hypertensive heart disease</td>\n",
       "      <td>Adult</td>\n",
       "      <td>Male</td>\n",
       "      <td>284.0</td>\n",
       "    </tr>\n",
       "    <tr>\n",
       "      <th>3</th>\n",
       "      <td>Hypertensive heart disease</td>\n",
       "      <td>All Ages</td>\n",
       "      <td>All</td>\n",
       "      <td>3563.0</td>\n",
       "    </tr>\n",
       "    <tr>\n",
       "      <th>4</th>\n",
       "      <td>Hypertensive heart disease</td>\n",
       "      <td>All Ages</td>\n",
       "      <td>Female</td>\n",
       "      <td>1388.0</td>\n",
       "    </tr>\n",
       "    <tr>\n",
       "      <th>...</th>\n",
       "      <td>...</td>\n",
       "      <td>...</td>\n",
       "      <td>...</td>\n",
       "      <td>...</td>\n",
       "    </tr>\n",
       "    <tr>\n",
       "      <th>145</th>\n",
       "      <td>Upper respiratory infections</td>\n",
       "      <td>Toddler</td>\n",
       "      <td>Female</td>\n",
       "      <td>4.0</td>\n",
       "    </tr>\n",
       "    <tr>\n",
       "      <th>146</th>\n",
       "      <td>Upper respiratory infections</td>\n",
       "      <td>Toddler</td>\n",
       "      <td>Male</td>\n",
       "      <td>6.0</td>\n",
       "    </tr>\n",
       "    <tr>\n",
       "      <th>147</th>\n",
       "      <td>Upper respiratory infections</td>\n",
       "      <td>Young Adult</td>\n",
       "      <td>All</td>\n",
       "      <td>20.0</td>\n",
       "    </tr>\n",
       "    <tr>\n",
       "      <th>148</th>\n",
       "      <td>Upper respiratory infections</td>\n",
       "      <td>Young Adult</td>\n",
       "      <td>Female</td>\n",
       "      <td>4.0</td>\n",
       "    </tr>\n",
       "    <tr>\n",
       "      <th>149</th>\n",
       "      <td>Upper respiratory infections</td>\n",
       "      <td>Young Adult</td>\n",
       "      <td>Male</td>\n",
       "      <td>16.0</td>\n",
       "    </tr>\n",
       "  </tbody>\n",
       "</table>\n",
       "<p>150 rows × 4 columns</p>\n",
       "</div>"
      ],
      "text/plain": [
       "                   Indicator Name Age Category     Sex  Number\n",
       "0      Hypertensive heart disease        Adult     All   364.0\n",
       "1      Hypertensive heart disease        Adult  Female    80.0\n",
       "2      Hypertensive heart disease        Adult    Male   284.0\n",
       "3      Hypertensive heart disease     All Ages     All  3563.0\n",
       "4      Hypertensive heart disease     All Ages  Female  1388.0\n",
       "..                            ...          ...     ...     ...\n",
       "145  Upper respiratory infections      Toddler  Female     4.0\n",
       "146  Upper respiratory infections      Toddler    Male     6.0\n",
       "147  Upper respiratory infections  Young Adult     All    20.0\n",
       "148  Upper respiratory infections  Young Adult  Female     4.0\n",
       "149  Upper respiratory infections  Young Adult    Male    16.0\n",
       "\n",
       "[150 rows x 4 columns]"
      ]
     },
     "execution_count": 62,
     "metadata": {},
     "output_type": "execute_result"
    }
   ],
   "source": [
    "# Group and sum by Cause, Age Category, Sex\n",
    "grouped = df_top5_dist.groupby(['Indicator Name', 'Age Category', 'Sex'])['Number'].sum().reset_index()\n",
    "grouped"
   ]
  },
  {
   "cell_type": "code",
   "execution_count": 63,
   "id": "dcd38fd5-bcb3-4d4b-a32f-cf01f5366d69",
   "metadata": {},
   "outputs": [
    {
     "data": {
      "image/png": "[encoded data removed]",
      "text/plain": [
       "<Figure size 600x400 with 2 Axes>"
      ]
     },
     "metadata": {},
     "output_type": "display_data"
    },
    {
     "name": "stdout",
     "output_type": "stream",
     "text": [
      "Correlation between Male and Female distribution for Inflammatory bowel disease: 0.99\n"
     ]
    },
    {
     "data": {
      "image/png": "[encoded data removed]",
      "text/plain": [
       "<Figure size 600x400 with 2 Axes>"
      ]
     },
     "metadata": {},
     "output_type": "display_data"
    },
    {
     "name": "stdout",
     "output_type": "stream",
     "text": [
      "Correlation between Male and Female distribution for Hypertensive heart disease: 0.97\n"
     ]
    },
    {
     "data": {
      "image/png": "[encoded data removed]",
      "text/plain": [
       "<Figure size 600x400 with 2 Axes>"
      ]
     },
     "metadata": {},
     "output_type": "display_data"
    },
    {
     "name": "stdout",
     "output_type": "stream",
     "text": [
      "Correlation between Male and Female distribution for Other genitourinary system diseases: 1.0\n"
     ]
    },
    {
     "data": {
      "image/png": "[encoded data removed]",
      "text/plain": [
       "<Figure size 600x400 with 2 Axes>"
      ]
     },
     "metadata": {},
     "output_type": "display_data"
    },
    {
     "name": "stdout",
     "output_type": "stream",
     "text": [
      "Correlation between Male and Female distribution for Mesothelioma: 0.99\n"
     ]
    },
    {
     "data": {
      "image/png": "[encoded data removed]",
      "text/plain": [
       "<Figure size 600x400 with 2 Axes>"
      ]
     },
     "metadata": {},
     "output_type": "display_data"
    },
    {
     "name": "stdout",
     "output_type": "stream",
     "text": [
      "Correlation between Male and Female distribution for Upper respiratory infections: 0.98\n"
     ]
    }
   ],
   "source": [
    "# Create a pivot table for heatmap\n",
    "for cause in top5_causes:\n",
    "    pivot = grouped[grouped['Indicator Name'] == cause].pivot(index='Age Category', columns='Sex', values='Number').fillna(0)\n",
    "\n",
    "    # Plot heatmap\n",
    "    plt.figure(figsize=(6, 4))\n",
    "    sns.heatmap(pivot, annot=True, fmt=\".0f\", cmap='YlGnBu')\n",
    "    plt.title(f'Distribution of Deaths by Age & Sex: {cause}')\n",
    "    plt.ylabel('Age Category')\n",
    "    plt.xlabel('Sex')\n",
    "    plt.tight_layout()\n",
    "    plt.show()\n",
    "\n",
    "    # Correlation between Male and Female distribution\n",
    "    if 'Male' in pivot.columns and 'Female' in pivot.columns:\n",
    "        r = pivot['Male'].corr(pivot['Female'])\n",
    "        print(f\"Correlation between Male and Female distribution for {cause}: {round(r, 2)}\")"
   ]
  }
 ],
 "metadata": {
  "kernelspec": {
   "display_name": "Python 3 (ipykernel)",
   "language": "python",
   "name": "python3"
  },
  "language_info": {
   "codemirror_mode": {
    "name": "ipython",
    "version": 3
   },
   "file_extension": ".py",
   "mimetype": "text/x-python",
   "name": "python",
   "nbconvert_exporter": "python",
   "pygments_lexer": "ipython3",
   "version": "3.12.11"
  }
 },
 "nbformat": 4,
 "nbformat_minor": 5
}
