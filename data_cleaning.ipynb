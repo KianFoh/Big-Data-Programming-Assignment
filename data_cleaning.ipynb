{
 "cells": [
  {
   "cell_type": "markdown",
   "id": "dc5eafa1-d8c7-404a-90d4-2b31c9e181d4",
   "metadata": {},
   "source": [
    "# Import Dependencies"
   ]
  },
  {
   "cell_type": "code",
   "execution_count": null,
   "id": "e14e40cd-712a-4cb8-9401-a9bd9ddad1c6",
   "metadata": {},
   "outputs": [],
   "source": [
    "import pandas as pd"
   ]
  },
  {
   "cell_type": "markdown",
   "id": "c8173500-00a4-43bb-adf6-8042ccafa61a",
   "metadata": {},
   "source": [
    "# Functions"
   ]
  },
  {
   "cell_type": "code",
   "execution_count": null,
   "id": "933e57d1-d90a-447a-b912-35b915ee09d9",
   "metadata": {},
   "outputs": [],
   "source": [
    "def print_unique_values(df, columns):\n",
    "    for col in columns:\n",
    "        print(f\"\\nColumn: {col}\")\n",
    "        unique_vals = df[col].unique()\n",
    "        print(f\"Number of unique values: {len(unique_vals)}\")\n",
    "        print(\"Unique values:\")\n",
    "        print(unique_vals)\n",
    "\n",
    "def verify_cause_totals(df, year):\n",
    "    # Filter to the specific year, Sex='All', and Age Group='All Ages'\n",
    "    df_year = df[\n",
    "        (df[\"Year\"] == year) &\n",
    "        (df[\"Sex\"] == \"All\") &\n",
    "        (df[\"Age Group\"] == \"[All]\")\n",
    "    ]\n",
    "\n",
    "    all_causes_total = df_year[df_year[\"Indicator Name\"] == \"All Causes\"][\"Number\"].sum()\n",
    "    specific_causes_total = df_year[df_year[\"Indicator Name\"] != \"All Causes\"][\"Number\"].sum()\n",
    "\n",
    "    print(f\"Year: {year}\")\n",
    "    print(f\"Reported 'All Causes' total: {all_causes_total:,.0f}\")\n",
    "    print(f\"Sum of specific causes:     {specific_causes_total:,.0f}\")\n",
    "\n",
    "    # Check if they match\n",
    "    if abs(all_causes_total - specific_causes_total) < 1e-6:\n",
    "        print(\"Match: Filtering is accurate.\")\n",
    "    else:\n",
    "        print(\"Mismatch: Totals do not match.\")"
   ]
  },
  {
   "cell_type": "markdown",
   "id": "c262541c-b2e1-41a0-9278-80d9d19da03f",
   "metadata": {},
   "source": [
    "# Import Data"
   ]
  },
  {
   "cell_type": "code",
   "execution_count": null,
   "id": "b6a1bd90-fd17-4e36-b73e-0f250f78944d",
   "metadata": {},
   "outputs": [],
   "source": [
    "# Load raw data\n",
    "path = r\"..\\dataset\\WHO Mortality Database - Overview of the distribution of causes of total deaths grouped by category - Malaysia - 30th May 2025 16_35.csv\"\n",
    "df = pd.read_csv(path, skiprows=8, usecols=range(10)) # Skip header metadata, keep first 10 columns only\n",
    "# Check data columns\n",
    "df.columns"
   ]
  },
  {
   "cell_type": "code",
   "execution_count": null,
   "id": "c00eeef0-832f-4d39-a2e6-d8f1daa08081",
   "metadata": {},
   "outputs": [],
   "source": [
    "# Rename Columns to shorten\n",
    "df.rename(columns={\n",
    "    \"Percentage of cause-specific deaths out of total deaths\": \"Percent of All Causes\",\n",
    "    \"Age-standardized death rate per 100 000 standard population\": \"Age-standardized Death Rate\",\n",
    "    \"Death rate per 100 000 population\": \"Death Rate\"\n",
    "}, inplace=True)\n",
    "\n",
    "# Check renamed columns\n",
    "df.columns"
   ]
  },
  {
   "cell_type": "markdown",
   "id": "96526f1f-cf47-4915-aa70-e9b4e8671f06",
   "metadata": {},
   "source": [
    "# Filter Redundant Columns"
   ]
  },
  {
   "cell_type": "code",
   "execution_count": null,
   "id": "b6e26faf-2dc2-4925-9ab4-2467dac2298a",
   "metadata": {},
   "outputs": [],
   "source": [
    "# Remove redundant columns\n",
    "columns=['Indicator Code', 'Age group code', 'Age-standardized Death Rate']\n",
    "df.drop(columns, inplace=True, axis=1)\n",
    "# After removed\n",
    "df.head()"
   ]
  },
  {
   "cell_type": "markdown",
   "id": "0e61dfb9-4c46-42b9-8ad8-bb91a20ec71b",
   "metadata": {},
   "source": [
    "# Check for Missing Data"
   ]
  },
  {
   "cell_type": "code",
   "execution_count": null,
   "id": "27478609-56d3-4019-a7ad-e952c17bcad2",
   "metadata": {},
   "outputs": [],
   "source": [
    "# Missing data for each column\n",
    "df.isnull().sum()"
   ]
  },
  {
   "cell_type": "code",
   "execution_count": null,
   "id": "0cea3390-7505-48f3-a1ff-5bb1fd852d3e",
   "metadata": {},
   "outputs": [],
   "source": [
    "# Get rows with missing values\n",
    "pd.set_option(\"display.max_colwidth\", None) # Display full text for columns text\n",
    "df[df.isnull().any(axis=1)]"
   ]
  },
  {
   "cell_type": "code",
   "execution_count": null,
   "id": "f67989ac-45fa-4e1c-9330-4881539cfd0d",
   "metadata": {},
   "outputs": [],
   "source": [
    "# Remove unknown age group rowws with missing data\n",
    "df = df[df[\"Age Group\"] != \"[Unknown]\"]\n",
    "# Remove footer metadata rows\n",
    "df = df[~df[\"Indicator Name\"].isin([\n",
    "    \"Usability\",\n",
    "    \"Percentage of ill-defined or non-specific causes to total deaths\",\n",
    "    \"Completeness\"\n",
    "])]"
   ]
  },
  {
   "cell_type": "code",
   "execution_count": null,
   "id": "38d24928-3b42-4b7d-b856-057c62a66cad",
   "metadata": {},
   "outputs": [],
   "source": [
    "# Check for missing values \n",
    "df.isnull().values.any()"
   ]
  },
  {
   "cell_type": "markdown",
   "id": "d76868df-8edc-4f2c-b5e4-393d34bbeeef",
   "metadata": {},
   "source": [
    "# Check for Duplicate Data"
   ]
  },
  {
   "cell_type": "code",
   "execution_count": null,
   "id": "0c449027-cf6f-4e2b-bed0-73311cc4a881",
   "metadata": {},
   "outputs": [],
   "source": [
    "df.duplicated().sum()"
   ]
  },
  {
   "cell_type": "markdown",
   "id": "f5e81565-62f8-4866-bdbc-cf9589389356",
   "metadata": {},
   "source": [
    "# Check Data Consistency"
   ]
  },
  {
   "cell_type": "code",
   "execution_count": null,
   "id": "c6c8744d-56b0-4f3c-b34d-abb3df767e8a",
   "metadata": {
    "scrolled": true
   },
   "outputs": [],
   "source": [
    "columns = [\"Indicator Name\", \"Year\", \"Sex\", \"Age Group\"]\n",
    "\n",
    "print_unique_values(df, columns)"
   ]
  },
  {
   "cell_type": "markdown",
   "id": "e246cf55-3495-4dfc-b3c0-986ff690c2a2",
   "metadata": {},
   "source": [
    "# Hierarchical Data Pruning"
   ]
  },
  {
   "cell_type": "code",
   "execution_count": null,
   "id": "58da4b63-6b25-49f1-9b72-c644415de8da",
   "metadata": {
    "scrolled": true
   },
   "outputs": [],
   "source": [
    "# Define causes of death groups to remove\n",
    "exclude_category = [\n",
    "    'Ill-defined diseases',\n",
    "    'Injuries',\n",
    "    'Unintentional injuries',\n",
    "    'Intentional injuries',\n",
    "    'Ill-defined injuries/accidents',\n",
    "    'Communicable, maternal, perinatal and nutritional conditions',\n",
    "    'Maternal conditions',\n",
    "    'Nutritional deficiencies',\n",
    "    'Respiratory infections',\n",
    "    'Infectious and parasitic diseases',\n",
    "    'Perinatal conditions',\n",
    "    'Noncommunicable diseases',\n",
    "    'Cardiovascular diseases',\n",
    "    'Malignant neoplasms',\n",
    "    'Respiratory diseases',\n",
    "    'Musculoskeletal diseases',\n",
    "    'Genitourinary diseases',\n",
    "    'Other neoplasms',\n",
    "    'Sudden infant death syndrome',\n",
    "    'Digestive diseases',\n",
    "    'Neuropsychiatric conditions',\n",
    "    'Diabetes mellitus and endocrine disorders',\n",
    "    'Sense organ diseases',\n",
    "    'Congenital anomalies',\n",
    "    'Oral conditions',\n",
    "    'Skin diseases'\n",
    "]\n",
    "\n",
    "# Filter the DataFrame\n",
    "df = df[~df['Indicator Name'].isin(exclude_category)]\n",
    "# View unique values\n",
    "print_unique_values(df, ['Indicator Name'])"
   ]
  },
  {
   "cell_type": "code",
   "execution_count": null,
   "id": "37005f1c-eea7-4853-ba94-1d8285572403",
   "metadata": {},
   "outputs": [],
   "source": [
    "verify_cause_totals(df, 2020)"
   ]
  },
  {
   "cell_type": "markdown",
   "id": "794dca2d-7502-4106-8835-3d5584f17fe4",
   "metadata": {},
   "source": [
    "# Feature Engineering Age Category & Population"
   ]
  },
  {
   "cell_type": "code",
   "execution_count": null,
   "id": "bebcd8ee-2713-4a7a-894b-86cb10909226",
   "metadata": {},
   "outputs": [],
   "source": [
    "\"\"\"\n",
    "Age group to category mapping:\n",
    "- Infant: [0]\n",
    "- Toddler: [1-4]\n",
    "- Child: [5-14]\n",
    "- Teenager: [15-19]\n",
    "- Young Adult: [20-29]\n",
    "- Adult: [30-44]\n",
    "- Middle Age: [45-59]\n",
    "- Senior: [60-79]\n",
    "- Elderly: [80+]\n",
    "- All Ages: [All]\n",
    "\"\"\"\n",
    "\n",
    "age_group_map = {\n",
    "    '[0]': 'Infant',\n",
    "    '[1-4]': 'Toddler',\n",
    "    '[5-9]': 'Child',\n",
    "    '[10-14]': 'Child',\n",
    "    '[15-19]': 'Teenager',\n",
    "    '[20-24]': 'Young Adult',\n",
    "    '[25-29]': 'Young Adult',\n",
    "    '[30-34]': 'Adult',\n",
    "    '[35-39]': 'Adult',\n",
    "    '[40-44]': 'Adult',\n",
    "    '[45-49]': 'Middle Age',\n",
    "    '[50-54]': 'Middle Age',\n",
    "    '[55-59]': 'Middle Age',\n",
    "    '[60-64]': 'Senior',\n",
    "    '[65-69]': 'Senior',\n",
    "    '[70-74]': 'Senior',\n",
    "    '[75-79]': 'Senior',\n",
    "    '[80-84]': 'Elderly',\n",
    "    '[85+]': 'Elderly',\n",
    "    '[All]': 'All Ages'\n",
    "}"
   ]
  },
  {
   "cell_type": "code",
   "execution_count": null,
   "id": "e1a96eda-19fe-477b-8f9c-edf006cdc77b",
   "metadata": {
    "scrolled": true
   },
   "outputs": [],
   "source": [
    "# Create Age cateogroy column\n",
    "df[\"Age Category\"] = df[\"Age Group\"].map(age_group_map)\n",
    "\n",
    "# Reorder the columns\n",
    "cols = df.columns.tolist()\n",
    "cols.remove(\"Age Category\")\n",
    "age_group_index = cols.index(\"Age Group\")\n",
    "cols.insert(age_group_index + 1, \"Age Category\")\n",
    "df = df[cols]\n",
    "df"
   ]
  },
  {
   "cell_type": "markdown",
   "id": "55eb8bd7-9e29-4458-8e40-93944d0ba045",
   "metadata": {},
   "source": [
    "# Export Processed Data"
   ]
  },
  {
   "cell_type": "code",
   "execution_count": null,
   "id": "52ab2040-cbbf-42b3-87e3-6b5eadf7482a",
   "metadata": {},
   "outputs": [],
   "source": [
    "# Save the dataframe to CSV file\n",
    "save_path = r\"..\\dataset\\clean_data.csv\"\n",
    "df.to_csv(save_path, index=False)"
   ]
  }
 ],
 "metadata": {
  "kernelspec": {
   "display_name": "Python 3 (ipykernel)",
   "language": "python",
   "name": "python3"
  },
  "language_info": {
   "codemirror_mode": {
    "name": "ipython",
    "version": 3
   },
   "file_extension": ".py",
   "mimetype": "text/x-python",
   "name": "python",
   "nbconvert_exporter": "python",
   "pygments_lexer": "ipython3",
   "version": "3.12.11"
  }
 },
 "nbformat": 4,
 "nbformat_minor": 5
}
